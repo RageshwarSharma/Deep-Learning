{
  "nbformat": 4,
  "nbformat_minor": 0,
  "metadata": {
    "colab": {
      "name": "BrainTumor.ipynb",
      "provenance": [],
      "collapsed_sections": []
    },
    "kernelspec": {
      "name": "python3",
      "display_name": "Python 3"
    },
    "accelerator": "GPU"
  },
  "cells": [
    {
      "cell_type": "code",
      "metadata": {
        "colab": {
          "base_uri": "https://localhost:8080/"
        },
        "id": "29PX3AH1SfI4",
        "outputId": "3bc67571-043f-419d-f554-8c00bb945040"
      },
      "source": [
        "# it will tell you gpu\n",
        "!nvidia-smi"
      ],
      "execution_count": null,
      "outputs": [
        {
          "output_type": "stream",
          "text": [
            "Sun Nov 29 08:00:39 2020       \n",
            "+-----------------------------------------------------------------------------+\n",
            "| NVIDIA-SMI 455.38       Driver Version: 418.67       CUDA Version: 10.1     |\n",
            "|-------------------------------+----------------------+----------------------+\n",
            "| GPU  Name        Persistence-M| Bus-Id        Disp.A | Volatile Uncorr. ECC |\n",
            "| Fan  Temp  Perf  Pwr:Usage/Cap|         Memory-Usage | GPU-Util  Compute M. |\n",
            "|                               |                      |               MIG M. |\n",
            "|===============================+======================+======================|\n",
            "|   0  Tesla T4            Off  | 00000000:00:04.0 Off |                    0 |\n",
            "| N/A   45C    P8     9W /  70W |      0MiB / 15079MiB |      0%      Default |\n",
            "|                               |                      |                 ERR! |\n",
            "+-------------------------------+----------------------+----------------------+\n",
            "                                                                               \n",
            "+-----------------------------------------------------------------------------+\n",
            "| Processes:                                                                  |\n",
            "|  GPU   GI   CI        PID   Type   Process name                  GPU Memory |\n",
            "|        ID   ID                                                   Usage      |\n",
            "|=============================================================================|\n",
            "|  No running processes found                                                 |\n",
            "+-----------------------------------------------------------------------------+\n"
          ],
          "name": "stdout"
        }
      ]
    },
    {
      "cell_type": "code",
      "metadata": {
        "colab": {
          "base_uri": "https://localhost:8080/"
        },
        "id": "Hzr3BcDdY_EJ",
        "outputId": "63b58f84-9869-41eb-d808-f9721ecbba4d"
      },
      "source": [
        "\n",
        "!pip install keras==2.3.1\n",
        "!pip install tensorflow==1.14.0"
      ],
      "execution_count": null,
      "outputs": [
        {
          "output_type": "stream",
          "text": [
            "Collecting keras==2.3.1\n",
            "\u001b[?25l  Downloading https://files.pythonhosted.org/packages/ad/fd/6bfe87920d7f4fd475acd28500a42482b6b84479832bdc0fe9e589a60ceb/Keras-2.3.1-py2.py3-none-any.whl (377kB)\n",
            "\r\u001b[K     |▉                               | 10kB 21.5MB/s eta 0:00:01\r\u001b[K     |█▊                              | 20kB 17.9MB/s eta 0:00:01\r\u001b[K     |██▋                             | 30kB 15.3MB/s eta 0:00:01\r\u001b[K     |███▌                            | 40kB 14.3MB/s eta 0:00:01\r\u001b[K     |████▍                           | 51kB 11.9MB/s eta 0:00:01\r\u001b[K     |█████▏                          | 61kB 11.5MB/s eta 0:00:01\r\u001b[K     |██████                          | 71kB 11.3MB/s eta 0:00:01\r\u001b[K     |███████                         | 81kB 11.6MB/s eta 0:00:01\r\u001b[K     |███████▉                        | 92kB 11.4MB/s eta 0:00:01\r\u001b[K     |████████▊                       | 102kB 11.4MB/s eta 0:00:01\r\u001b[K     |█████████▌                      | 112kB 11.4MB/s eta 0:00:01\r\u001b[K     |██████████▍                     | 122kB 11.4MB/s eta 0:00:01\r\u001b[K     |███████████▎                    | 133kB 11.4MB/s eta 0:00:01\r\u001b[K     |████████████▏                   | 143kB 11.4MB/s eta 0:00:01\r\u001b[K     |█████████████                   | 153kB 11.4MB/s eta 0:00:01\r\u001b[K     |█████████████▉                  | 163kB 11.4MB/s eta 0:00:01\r\u001b[K     |██████████████▊                 | 174kB 11.4MB/s eta 0:00:01\r\u001b[K     |███████████████▋                | 184kB 11.4MB/s eta 0:00:01\r\u001b[K     |████████████████▌               | 194kB 11.4MB/s eta 0:00:01\r\u001b[K     |█████████████████▍              | 204kB 11.4MB/s eta 0:00:01\r\u001b[K     |██████████████████▏             | 215kB 11.4MB/s eta 0:00:01\r\u001b[K     |███████████████████             | 225kB 11.4MB/s eta 0:00:01\r\u001b[K     |████████████████████            | 235kB 11.4MB/s eta 0:00:01\r\u001b[K     |████████████████████▉           | 245kB 11.4MB/s eta 0:00:01\r\u001b[K     |█████████████████████▊          | 256kB 11.4MB/s eta 0:00:01\r\u001b[K     |██████████████████████▌         | 266kB 11.4MB/s eta 0:00:01\r\u001b[K     |███████████████████████▍        | 276kB 11.4MB/s eta 0:00:01\r\u001b[K     |████████████████████████▎       | 286kB 11.4MB/s eta 0:00:01\r\u001b[K     |█████████████████████████▏      | 296kB 11.4MB/s eta 0:00:01\r\u001b[K     |██████████████████████████      | 307kB 11.4MB/s eta 0:00:01\r\u001b[K     |██████████████████████████▉     | 317kB 11.4MB/s eta 0:00:01\r\u001b[K     |███████████████████████████▊    | 327kB 11.4MB/s eta 0:00:01\r\u001b[K     |████████████████████████████▋   | 337kB 11.4MB/s eta 0:00:01\r\u001b[K     |█████████████████████████████▌  | 348kB 11.4MB/s eta 0:00:01\r\u001b[K     |██████████████████████████████▍ | 358kB 11.4MB/s eta 0:00:01\r\u001b[K     |███████████████████████████████▏| 368kB 11.4MB/s eta 0:00:01\r\u001b[K     |████████████████████████████████| 378kB 11.4MB/s \n",
            "\u001b[?25hRequirement already satisfied: keras-preprocessing>=1.0.5 in /usr/local/lib/python3.6/dist-packages (from keras==2.3.1) (1.1.2)\n",
            "Requirement already satisfied: h5py in /usr/local/lib/python3.6/dist-packages (from keras==2.3.1) (2.10.0)\n",
            "Requirement already satisfied: scipy>=0.14 in /usr/local/lib/python3.6/dist-packages (from keras==2.3.1) (1.4.1)\n",
            "Requirement already satisfied: numpy>=1.9.1 in /usr/local/lib/python3.6/dist-packages (from keras==2.3.1) (1.18.5)\n",
            "Requirement already satisfied: six>=1.9.0 in /usr/local/lib/python3.6/dist-packages (from keras==2.3.1) (1.15.0)\n",
            "Requirement already satisfied: pyyaml in /usr/local/lib/python3.6/dist-packages (from keras==2.3.1) (3.13)\n",
            "Collecting keras-applications>=1.0.6\n",
            "\u001b[33m  WARNING: Retrying (Retry(total=4, connect=None, read=None, redirect=None, status=None)) after connection broken by 'ProtocolError('Connection aborted.', ConnectionResetError(104, 'Connection reset by peer'))': /packages/71/e3/19762fdfc62877ae9102edf6342d71b28fbfd9dea3d2f96a882ce099b03f/Keras_Applications-1.0.8-py3-none-any.whl\u001b[0m\n",
            "\u001b[?25l  Downloading https://files.pythonhosted.org/packages/71/e3/19762fdfc62877ae9102edf6342d71b28fbfd9dea3d2f96a882ce099b03f/Keras_Applications-1.0.8-py3-none-any.whl (50kB)\n",
            "\u001b[K     |████████████████████████████████| 51kB 7.5MB/s \n",
            "\u001b[?25hInstalling collected packages: keras-applications, keras\n",
            "  Found existing installation: Keras 2.4.3\n",
            "    Uninstalling Keras-2.4.3:\n",
            "      Successfully uninstalled Keras-2.4.3\n",
            "Successfully installed keras-2.3.1 keras-applications-1.0.8\n",
            "Collecting tensorflow==1.14.0\n",
            "\u001b[?25l  Downloading https://files.pythonhosted.org/packages/de/f0/96fb2e0412ae9692dbf400e5b04432885f677ad6241c088ccc5fe7724d69/tensorflow-1.14.0-cp36-cp36m-manylinux1_x86_64.whl (109.2MB)\n",
            "\u001b[K     |████████████████████████████████| 109.2MB 38kB/s \n",
            "\u001b[?25hCollecting tensorboard<1.15.0,>=1.14.0\n",
            "\u001b[?25l  Downloading https://files.pythonhosted.org/packages/91/2d/2ed263449a078cd9c8a9ba50ebd50123adf1f8cfbea1492f9084169b89d9/tensorboard-1.14.0-py3-none-any.whl (3.1MB)\n",
            "\u001b[K     |████████████████████████████████| 3.2MB 42.0MB/s \n",
            "\u001b[?25hRequirement already satisfied: gast>=0.2.0 in /usr/local/lib/python3.6/dist-packages (from tensorflow==1.14.0) (0.3.3)\n",
            "Requirement already satisfied: wheel>=0.26 in /usr/local/lib/python3.6/dist-packages (from tensorflow==1.14.0) (0.35.1)\n",
            "Collecting tensorflow-estimator<1.15.0rc0,>=1.14.0rc0\n",
            "\u001b[?25l  Downloading https://files.pythonhosted.org/packages/3c/d5/21860a5b11caf0678fbc8319341b0ae21a07156911132e0e71bffed0510d/tensorflow_estimator-1.14.0-py2.py3-none-any.whl (488kB)\n",
            "\u001b[K     |████████████████████████████████| 491kB 50.9MB/s \n",
            "\u001b[?25hRequirement already satisfied: grpcio>=1.8.6 in /usr/local/lib/python3.6/dist-packages (from tensorflow==1.14.0) (1.33.2)\n",
            "Requirement already satisfied: six>=1.10.0 in /usr/local/lib/python3.6/dist-packages (from tensorflow==1.14.0) (1.15.0)\n",
            "Requirement already satisfied: absl-py>=0.7.0 in /usr/local/lib/python3.6/dist-packages (from tensorflow==1.14.0) (0.10.0)\n",
            "Requirement already satisfied: protobuf>=3.6.1 in /usr/local/lib/python3.6/dist-packages (from tensorflow==1.14.0) (3.12.4)\n",
            "Requirement already satisfied: numpy<2.0,>=1.14.5 in /usr/local/lib/python3.6/dist-packages (from tensorflow==1.14.0) (1.18.5)\n",
            "Requirement already satisfied: termcolor>=1.1.0 in /usr/local/lib/python3.6/dist-packages (from tensorflow==1.14.0) (1.1.0)\n",
            "Requirement already satisfied: wrapt>=1.11.1 in /usr/local/lib/python3.6/dist-packages (from tensorflow==1.14.0) (1.12.1)\n",
            "Requirement already satisfied: keras-applications>=1.0.6 in /usr/local/lib/python3.6/dist-packages (from tensorflow==1.14.0) (1.0.8)\n",
            "Requirement already satisfied: astor>=0.6.0 in /usr/local/lib/python3.6/dist-packages (from tensorflow==1.14.0) (0.8.1)\n",
            "Requirement already satisfied: keras-preprocessing>=1.0.5 in /usr/local/lib/python3.6/dist-packages (from tensorflow==1.14.0) (1.1.2)\n",
            "Requirement already satisfied: google-pasta>=0.1.6 in /usr/local/lib/python3.6/dist-packages (from tensorflow==1.14.0) (0.2.0)\n",
            "Requirement already satisfied: werkzeug>=0.11.15 in /usr/local/lib/python3.6/dist-packages (from tensorboard<1.15.0,>=1.14.0->tensorflow==1.14.0) (1.0.1)\n",
            "Requirement already satisfied: markdown>=2.6.8 in /usr/local/lib/python3.6/dist-packages (from tensorboard<1.15.0,>=1.14.0->tensorflow==1.14.0) (3.3.3)\n",
            "Requirement already satisfied: setuptools>=41.0.0 in /usr/local/lib/python3.6/dist-packages (from tensorboard<1.15.0,>=1.14.0->tensorflow==1.14.0) (50.3.2)\n",
            "Requirement already satisfied: h5py in /usr/local/lib/python3.6/dist-packages (from keras-applications>=1.0.6->tensorflow==1.14.0) (2.10.0)\n",
            "Requirement already satisfied: importlib-metadata; python_version < \"3.8\" in /usr/local/lib/python3.6/dist-packages (from markdown>=2.6.8->tensorboard<1.15.0,>=1.14.0->tensorflow==1.14.0) (2.0.0)\n",
            "Requirement already satisfied: zipp>=0.5 in /usr/local/lib/python3.6/dist-packages (from importlib-metadata; python_version < \"3.8\"->markdown>=2.6.8->tensorboard<1.15.0,>=1.14.0->tensorflow==1.14.0) (3.4.0)\n",
            "Installing collected packages: tensorboard, tensorflow-estimator, tensorflow\n",
            "  Found existing installation: tensorboard 2.3.0\n",
            "    Uninstalling tensorboard-2.3.0:\n",
            "      Successfully uninstalled tensorboard-2.3.0\n",
            "  Found existing installation: tensorflow-estimator 2.3.0\n",
            "    Uninstalling tensorflow-estimator-2.3.0:\n",
            "      Successfully uninstalled tensorflow-estimator-2.3.0\n",
            "  Found existing installation: tensorflow 2.3.0\n",
            "    Uninstalling tensorflow-2.3.0:\n",
            "      Successfully uninstalled tensorflow-2.3.0\n",
            "Successfully installed tensorboard-1.14.0 tensorflow-1.14.0 tensorflow-estimator-1.14.0\n"
          ],
          "name": "stdout"
        }
      ]
    },
    {
      "cell_type": "code",
      "metadata": {
        "colab": {
          "base_uri": "https://localhost:8080/",
          "height": 463
        },
        "id": "UDM13A73VfQM",
        "outputId": "17606e8f-fd72-47a3-97c8-2f7c0f640e7a"
      },
      "source": [
        "import tensorflow as tf\n",
        "tf.__version__"
      ],
      "execution_count": null,
      "outputs": [
        {
          "output_type": "stream",
          "text": [
            "/usr/local/lib/python3.6/dist-packages/tensorflow/python/framework/dtypes.py:516: FutureWarning: Passing (type, 1) or '1type' as a synonym of type is deprecated; in a future version of numpy, it will be understood as (type, (1,)) / '(1,)type'.\n",
            "  _np_qint8 = np.dtype([(\"qint8\", np.int8, 1)])\n",
            "/usr/local/lib/python3.6/dist-packages/tensorflow/python/framework/dtypes.py:517: FutureWarning: Passing (type, 1) or '1type' as a synonym of type is deprecated; in a future version of numpy, it will be understood as (type, (1,)) / '(1,)type'.\n",
            "  _np_quint8 = np.dtype([(\"quint8\", np.uint8, 1)])\n",
            "/usr/local/lib/python3.6/dist-packages/tensorflow/python/framework/dtypes.py:518: FutureWarning: Passing (type, 1) or '1type' as a synonym of type is deprecated; in a future version of numpy, it will be understood as (type, (1,)) / '(1,)type'.\n",
            "  _np_qint16 = np.dtype([(\"qint16\", np.int16, 1)])\n",
            "/usr/local/lib/python3.6/dist-packages/tensorflow/python/framework/dtypes.py:519: FutureWarning: Passing (type, 1) or '1type' as a synonym of type is deprecated; in a future version of numpy, it will be understood as (type, (1,)) / '(1,)type'.\n",
            "  _np_quint16 = np.dtype([(\"quint16\", np.uint16, 1)])\n",
            "/usr/local/lib/python3.6/dist-packages/tensorflow/python/framework/dtypes.py:520: FutureWarning: Passing (type, 1) or '1type' as a synonym of type is deprecated; in a future version of numpy, it will be understood as (type, (1,)) / '(1,)type'.\n",
            "  _np_qint32 = np.dtype([(\"qint32\", np.int32, 1)])\n",
            "/usr/local/lib/python3.6/dist-packages/tensorflow/python/framework/dtypes.py:525: FutureWarning: Passing (type, 1) or '1type' as a synonym of type is deprecated; in a future version of numpy, it will be understood as (type, (1,)) / '(1,)type'.\n",
            "  np_resource = np.dtype([(\"resource\", np.ubyte, 1)])\n",
            "/usr/local/lib/python3.6/dist-packages/tensorboard/compat/tensorflow_stub/dtypes.py:541: FutureWarning: Passing (type, 1) or '1type' as a synonym of type is deprecated; in a future version of numpy, it will be understood as (type, (1,)) / '(1,)type'.\n",
            "  _np_qint8 = np.dtype([(\"qint8\", np.int8, 1)])\n",
            "/usr/local/lib/python3.6/dist-packages/tensorboard/compat/tensorflow_stub/dtypes.py:542: FutureWarning: Passing (type, 1) or '1type' as a synonym of type is deprecated; in a future version of numpy, it will be understood as (type, (1,)) / '(1,)type'.\n",
            "  _np_quint8 = np.dtype([(\"quint8\", np.uint8, 1)])\n",
            "/usr/local/lib/python3.6/dist-packages/tensorboard/compat/tensorflow_stub/dtypes.py:543: FutureWarning: Passing (type, 1) or '1type' as a synonym of type is deprecated; in a future version of numpy, it will be understood as (type, (1,)) / '(1,)type'.\n",
            "  _np_qint16 = np.dtype([(\"qint16\", np.int16, 1)])\n",
            "/usr/local/lib/python3.6/dist-packages/tensorboard/compat/tensorflow_stub/dtypes.py:544: FutureWarning: Passing (type, 1) or '1type' as a synonym of type is deprecated; in a future version of numpy, it will be understood as (type, (1,)) / '(1,)type'.\n",
            "  _np_quint16 = np.dtype([(\"quint16\", np.uint16, 1)])\n",
            "/usr/local/lib/python3.6/dist-packages/tensorboard/compat/tensorflow_stub/dtypes.py:545: FutureWarning: Passing (type, 1) or '1type' as a synonym of type is deprecated; in a future version of numpy, it will be understood as (type, (1,)) / '(1,)type'.\n",
            "  _np_qint32 = np.dtype([(\"qint32\", np.int32, 1)])\n",
            "/usr/local/lib/python3.6/dist-packages/tensorboard/compat/tensorflow_stub/dtypes.py:550: FutureWarning: Passing (type, 1) or '1type' as a synonym of type is deprecated; in a future version of numpy, it will be understood as (type, (1,)) / '(1,)type'.\n",
            "  np_resource = np.dtype([(\"resource\", np.ubyte, 1)])\n"
          ],
          "name": "stderr"
        },
        {
          "output_type": "execute_result",
          "data": {
            "application/vnd.google.colaboratory.intrinsic+json": {
              "type": "string"
            },
            "text/plain": [
              "'1.14.0'"
            ]
          },
          "metadata": {
            "tags": []
          },
          "execution_count": 3
        }
      ]
    },
    {
      "cell_type": "code",
      "metadata": {
        "id": "dg7K9df_Y4vJ",
        "colab": {
          "base_uri": "https://localhost:8080/"
        },
        "outputId": "06605f3d-7238-4d66-838a-59b67b70832c"
      },
      "source": [
        "# importing all required libraries\n",
        "from keras.models import Sequential\n",
        "from keras.layers import Conv2D\n",
        "from keras.layers import MaxPooling2D,MaxPool2D\n",
        "from keras.layers import Flatten\n",
        "from keras.layers import Dense\n",
        "from keras.layers import Activation\n",
        "from keras.layers import Dropout\n",
        "from keras.models import load_model\n",
        "from keras.preprocessing import image\n",
        "import numpy as np\n",
        "from matplotlib import pyplot as plt\n",
        "from keras.preprocessing.image import ImageDataGenerator\n",
        "from keras.callbacks import ReduceLROnPlateau\n",
        "import matplotlib.pyplot as plt"
      ],
      "execution_count": null,
      "outputs": [
        {
          "output_type": "stream",
          "text": [
            "Using TensorFlow backend.\n"
          ],
          "name": "stderr"
        }
      ]
    },
    {
      "cell_type": "code",
      "metadata": {
        "id": "0y1gM8VjbyGi"
      },
      "source": [
        "img_rows = 224\n",
        "img_cols = 224"
      ],
      "execution_count": null,
      "outputs": []
    },
    {
      "cell_type": "code",
      "metadata": {
        "id": "_htrOFRKb9VJ"
      },
      "source": [
        "data_gen=ImageDataGenerator(\n",
        "                            featurewise_center=False,  \n",
        "                            samplewise_center=False, \n",
        "                            featurewise_std_normalization=False,  \n",
        "                            samplewise_std_normalization=False,  \n",
        "                            zca_whitening=False,\n",
        "                            rotation_range=0,\n",
        "                            shear_range=0.5,\n",
        "                            zoom_range=0,\n",
        "                            rescale=1./255,\n",
        "                            vertical_flip=True,\n",
        "                            validation_split=0,\n",
        "                            width_shift_range=0,\n",
        "                            height_shift_range=0,\n",
        "                            horizontal_flip=True)"
      ],
      "execution_count": null,
      "outputs": []
    },
    {
      "cell_type": "code",
      "metadata": {
        "colab": {
          "base_uri": "https://localhost:8080/"
        },
        "id": "3Ts_t6ercsmm",
        "outputId": "20732a05-b816-4654-8637-37b8867bd742"
      },
      "source": [
        "train_generator = data_gen.flow_from_directory('/content/drive/MyDrive/tumor/Training',\n",
        "                                               target_size=(img_rows,img_cols),\n",
        "                                               batch_size=40,\n",
        "                                               class_mode='categorical',\n",
        "                                               color_mode='rgb',\n",
        "                                               shuffle=True,\n",
        "                                               subset='training'\n",
        "                                               )"
      ],
      "execution_count": null,
      "outputs": [
        {
          "output_type": "stream",
          "text": [
            "Found 2870 images belonging to 4 classes.\n"
          ],
          "name": "stdout"
        }
      ]
    },
    {
      "cell_type": "code",
      "metadata": {
        "colab": {
          "base_uri": "https://localhost:8080/"
        },
        "id": "FOAU7Rjod8mU",
        "outputId": "b5b92556-7d41-4408-f125-9b5da4cd9a55"
      },
      "source": [
        "train_generator.class_indices"
      ],
      "execution_count": null,
      "outputs": [
        {
          "output_type": "execute_result",
          "data": {
            "text/plain": [
              "{'glioma_tumor': 0, 'meningioma_tumor': 1, 'no_tumor': 2, 'pituitary_tumor': 3}"
            ]
          },
          "metadata": {
            "tags": []
          },
          "execution_count": 8
        }
      ]
    },
    {
      "cell_type": "code",
      "metadata": {
        "colab": {
          "base_uri": "https://localhost:8080/"
        },
        "id": "GGc9k_LZeHS_",
        "outputId": "6cf21708-7507-47bf-e78d-0694e522b995"
      },
      "source": [
        "test_generator = data_gen.flow_from_directory('/content/drive/MyDrive/tumor/Testing',\n",
        "                                               target_size=(img_rows,img_cols),\n",
        "                                               batch_size=40,\n",
        "                                               class_mode='categorical',\n",
        "                                               color_mode='rgb',\n",
        "                                               shuffle=True,\n",
        "                                              seed = None,\n",
        "                                               subset='validation'\n",
        "                                               )"
      ],
      "execution_count": null,
      "outputs": [
        {
          "output_type": "stream",
          "text": [
            "Found 0 images belonging to 4 classes.\n"
          ],
          "name": "stdout"
        }
      ]
    },
    {
      "cell_type": "code",
      "metadata": {
        "colab": {
          "base_uri": "https://localhost:8080/"
        },
        "id": "ODUsyjnhebAd",
        "outputId": "99c57382-ffd6-4399-e057-1bb43c0c97b1"
      },
      "source": [
        "test_generator.class_indices"
      ],
      "execution_count": null,
      "outputs": [
        {
          "output_type": "execute_result",
          "data": {
            "text/plain": [
              "{'glioma_tumor': 0, 'meningioma_tumor': 1, 'no_tumor': 2, 'pituitary_tumor': 3}"
            ]
          },
          "metadata": {
            "tags": []
          },
          "execution_count": 10
        }
      ]
    },
    {
      "cell_type": "code",
      "metadata": {
        "id": "xRCr5gFIegHx",
        "colab": {
          "base_uri": "https://localhost:8080/"
        },
        "outputId": "0af1edd4-bbc4-43e5-f0ec-eadf521fed1a"
      },
      "source": [
        "# intalizing the cnn\n",
        "\n",
        "model = Sequential()\n",
        "\n",
        "# step adding convolutional\n",
        "\n",
        "model.add(Conv2D(64,(3,3),input_shape=(224,224,3),activation='relu'))\n",
        "\n",
        "# step adding pooling\n",
        "\n",
        "model.add(MaxPool2D(pool_size=(2,2)))\n",
        "# adding dropout layer\n",
        "model.add(Dropout(0.25))\n",
        "\n",
        "\n",
        "# adding another convolutional layer\n",
        "\n",
        "model.add(Conv2D(128,(3,3),activation='relu'))\n",
        "\n",
        "# adding pooling\n",
        "model.add(MaxPool2D(pool_size=(2,2), strides=(2,2)))\n",
        "model.add(Dropout(0.25))\n",
        "\n",
        "# adding convolutional network\n",
        "model.add(Conv2D(128,(3,3),activation='relu'))\n",
        "model.add(Dropout(0.25))\n",
        "\n",
        "# adding convolutional network\n",
        "\n",
        "model.add(Conv2D(256,(2,2),input_shape=(224,224,3),activation='relu'))\n",
        "\n",
        "# step adding pooling\n",
        "\n",
        "model.add(MaxPool2D(pool_size=(2,2), strides=(2,2)))\n",
        "# adding dropout layer\n",
        "model.add(Dropout(0.3))\n",
        "\n",
        "# flatten the data\n",
        "\n",
        "model.add(Flatten())\n",
        "\n",
        "# Adding full connection\n",
        "\n",
        "model.add(Dense(units=1024,activation='relu'))\n",
        "model.add(Dropout(0.5))\n",
        "model.add(Dense(units=4,activation='softmax'))\n"
      ],
      "execution_count": null,
      "outputs": [
        {
          "output_type": "stream",
          "text": [
            "WARNING:tensorflow:From /usr/local/lib/python3.6/dist-packages/keras/backend/tensorflow_backend.py:4070: The name tf.nn.max_pool is deprecated. Please use tf.nn.max_pool2d instead.\n",
            "\n"
          ],
          "name": "stdout"
        }
      ]
    },
    {
      "cell_type": "code",
      "metadata": {
        "colab": {
          "base_uri": "https://localhost:8080/"
        },
        "id": "SrXl11k8lm3l",
        "outputId": "e7d0a878-c667-409a-bd0f-49b1f71c7628"
      },
      "source": [
        "model.summary()"
      ],
      "execution_count": null,
      "outputs": [
        {
          "output_type": "stream",
          "text": [
            "Model: \"sequential_1\"\n",
            "_________________________________________________________________\n",
            "Layer (type)                 Output Shape              Param #   \n",
            "=================================================================\n",
            "conv2d_1 (Conv2D)            (None, 222, 222, 64)      1792      \n",
            "_________________________________________________________________\n",
            "max_pooling2d_1 (MaxPooling2 (None, 111, 111, 64)      0         \n",
            "_________________________________________________________________\n",
            "dropout_1 (Dropout)          (None, 111, 111, 64)      0         \n",
            "_________________________________________________________________\n",
            "conv2d_2 (Conv2D)            (None, 109, 109, 128)     73856     \n",
            "_________________________________________________________________\n",
            "max_pooling2d_2 (MaxPooling2 (None, 54, 54, 128)       0         \n",
            "_________________________________________________________________\n",
            "dropout_2 (Dropout)          (None, 54, 54, 128)       0         \n",
            "_________________________________________________________________\n",
            "conv2d_3 (Conv2D)            (None, 52, 52, 128)       147584    \n",
            "_________________________________________________________________\n",
            "dropout_3 (Dropout)          (None, 52, 52, 128)       0         \n",
            "_________________________________________________________________\n",
            "conv2d_4 (Conv2D)            (None, 51, 51, 256)       131328    \n",
            "_________________________________________________________________\n",
            "max_pooling2d_3 (MaxPooling2 (None, 25, 25, 256)       0         \n",
            "_________________________________________________________________\n",
            "dropout_4 (Dropout)          (None, 25, 25, 256)       0         \n",
            "_________________________________________________________________\n",
            "flatten_1 (Flatten)          (None, 160000)            0         \n",
            "_________________________________________________________________\n",
            "dense_1 (Dense)              (None, 1024)              163841024 \n",
            "_________________________________________________________________\n",
            "dropout_5 (Dropout)          (None, 1024)              0         \n",
            "_________________________________________________________________\n",
            "dense_2 (Dense)              (None, 4)                 4100      \n",
            "=================================================================\n",
            "Total params: 164,199,684\n",
            "Trainable params: 164,199,684\n",
            "Non-trainable params: 0\n",
            "_________________________________________________________________\n"
          ],
          "name": "stdout"
        }
      ]
    },
    {
      "cell_type": "code",
      "metadata": {
        "id": "kKPm7Cu4iP9B"
      },
      "source": [
        "model.compile(loss='categorical_crossentropy',\n",
        "              optimizer='adam',\n",
        "              metrics=['accuracy'])"
      ],
      "execution_count": null,
      "outputs": []
    },
    {
      "cell_type": "code",
      "metadata": {
        "colab": {
          "base_uri": "https://localhost:8080/"
        },
        "id": "UVDD6oLoijRA",
        "outputId": "5773d7d1-69ef-48fc-f86d-a3527d94f652"
      },
      "source": [
        "model.fit(train_generator,epochs=50,validation_data=test_generator,steps_per_epoch=57)\n",
        "model.save('/content/drive/MyDrive/tumor/tumor_model.h5')\n",
        "print('save model')"
      ],
      "execution_count": null,
      "outputs": [
        {
          "output_type": "stream",
          "text": [
            "WARNING:tensorflow:From /usr/local/lib/python3.6/dist-packages/keras/backend/tensorflow_backend.py:422: The name tf.global_variables is deprecated. Please use tf.compat.v1.global_variables instead.\n",
            "\n",
            "Epoch 1/50\n",
            "54/57 [===========================>..] - ETA: 1:00 - loss: 1.3652 - accuracy: 0.4660"
          ],
          "name": "stdout"
        },
        {
          "output_type": "stream",
          "text": [
            "/usr/local/lib/python3.6/dist-packages/keras/utils/data_utils.py:616: UserWarning: The input 22 could not be retrieved. It could be because a worker has died.\n",
            "  UserWarning)\n"
          ],
          "name": "stderr"
        },
        {
          "output_type": "stream",
          "text": [
            "57/57 [==============================] - 1172s 21s/step - loss: 1.3530 - accuracy: 0.4696\n",
            "Epoch 2/50\n"
          ],
          "name": "stdout"
        },
        {
          "output_type": "stream",
          "text": [
            "/usr/local/lib/python3.6/dist-packages/keras/utils/data_utils.py:616: UserWarning: The input 13 could not be retrieved. It could be because a worker has died.\n",
            "  UserWarning)\n"
          ],
          "name": "stderr"
        },
        {
          "output_type": "stream",
          "text": [
            "57/57 [==============================] - 818s 14s/step - loss: 0.9717 - accuracy: 0.5952\n",
            "Epoch 3/50\n",
            "57/57 [==============================] - 681s 12s/step - loss: 0.9025 - accuracy: 0.6346\n",
            "Epoch 4/50\n",
            "57/57 [==============================] - 652s 11s/step - loss: 0.8080 - accuracy: 0.6656\n",
            "Epoch 5/50\n",
            "57/57 [==============================] - 673s 12s/step - loss: 0.7763 - accuracy: 0.6772\n",
            "Epoch 6/50\n",
            "57/57 [==============================] - 638s 11s/step - loss: 0.7197 - accuracy: 0.7066\n",
            "Epoch 7/50\n",
            "57/57 [==============================] - 638s 11s/step - loss: 0.6711 - accuracy: 0.7252\n",
            "Epoch 8/50\n",
            "57/57 [==============================] - 631s 11s/step - loss: 0.5651 - accuracy: 0.7803\n",
            "Epoch 9/50\n",
            "57/57 [==============================] - 614s 11s/step - loss: 0.5602 - accuracy: 0.7872\n",
            "Epoch 10/50\n",
            "57/57 [==============================] - 620s 11s/step - loss: 0.5031 - accuracy: 0.8053\n",
            "Epoch 11/50\n",
            "57/57 [==============================] - 649s 11s/step - loss: 0.4632 - accuracy: 0.8159\n",
            "Epoch 12/50\n",
            "57/57 [==============================] - 607s 11s/step - loss: 0.4219 - accuracy: 0.8348\n",
            "Epoch 13/50\n",
            "57/57 [==============================] - 616s 11s/step - loss: 0.4195 - accuracy: 0.8388\n",
            "Epoch 14/50\n",
            "57/57 [==============================] - 623s 11s/step - loss: 0.3924 - accuracy: 0.8474\n",
            "Epoch 15/50\n",
            "57/57 [==============================] - 635s 11s/step - loss: 0.3609 - accuracy: 0.8612\n",
            "Epoch 16/50\n",
            "57/57 [==============================] - 631s 11s/step - loss: 0.3223 - accuracy: 0.8780\n",
            "Epoch 17/50\n",
            "57/57 [==============================] - 637s 11s/step - loss: 0.3343 - accuracy: 0.8753\n",
            "Epoch 18/50\n",
            "57/57 [==============================] - 630s 11s/step - loss: 0.2792 - accuracy: 0.8904\n",
            "Epoch 19/50\n",
            "57/57 [==============================] - 624s 11s/step - loss: 0.2979 - accuracy: 0.8916\n",
            "Epoch 20/50\n",
            "57/57 [==============================] - 624s 11s/step - loss: 0.2605 - accuracy: 0.8956\n",
            "Epoch 21/50\n",
            "57/57 [==============================] - 643s 11s/step - loss: 0.2340 - accuracy: 0.9158\n",
            "Epoch 22/50\n",
            "57/57 [==============================] - 649s 11s/step - loss: 0.2510 - accuracy: 0.9022\n",
            "Epoch 23/50\n",
            "57/57 [==============================] - 664s 12s/step - loss: 0.2544 - accuracy: 0.9097\n",
            "Epoch 24/50\n",
            "57/57 [==============================] - 651s 11s/step - loss: 0.2040 - accuracy: 0.9211\n",
            "Epoch 25/50\n",
            "57/57 [==============================] - 666s 12s/step - loss: 0.1835 - accuracy: 0.9278\n",
            "Epoch 26/50\n",
            "57/57 [==============================] - 634s 11s/step - loss: 0.1559 - accuracy: 0.9474\n",
            "Epoch 27/50\n",
            "57/57 [==============================] - 651s 11s/step - loss: 0.1914 - accuracy: 0.9344\n",
            "Epoch 28/50\n",
            "57/57 [==============================] - 664s 12s/step - loss: 0.1592 - accuracy: 0.9436\n",
            "Epoch 29/50\n",
            "57/57 [==============================] - 659s 12s/step - loss: 0.1570 - accuracy: 0.9436\n",
            "Epoch 30/50\n",
            "57/57 [==============================] - 675s 12s/step - loss: 0.1621 - accuracy: 0.9417\n",
            "Epoch 31/50\n",
            "57/57 [==============================] - 670s 12s/step - loss: 0.1452 - accuracy: 0.9502\n",
            "Epoch 32/50\n",
            "57/57 [==============================] - 675s 12s/step - loss: 0.1500 - accuracy: 0.9410\n",
            "Epoch 33/50\n",
            "57/57 [==============================] - 676s 12s/step - loss: 0.1483 - accuracy: 0.9493\n",
            "Epoch 34/50\n",
            "57/57 [==============================] - 680s 12s/step - loss: 0.1195 - accuracy: 0.9559\n",
            "Epoch 35/50\n",
            "57/57 [==============================] - 657s 12s/step - loss: 0.1294 - accuracy: 0.9529\n",
            "Epoch 36/50\n",
            "57/57 [==============================] - 643s 11s/step - loss: 0.1417 - accuracy: 0.9535\n",
            "Epoch 37/50\n",
            "57/57 [==============================] - 639s 11s/step - loss: 0.1007 - accuracy: 0.9664\n",
            "Epoch 38/50\n",
            "57/57 [==============================] - 634s 11s/step - loss: 0.1186 - accuracy: 0.9548\n",
            "Epoch 39/50\n",
            "57/57 [==============================] - 638s 11s/step - loss: 0.1179 - accuracy: 0.9551\n",
            "Epoch 40/50\n",
            "57/57 [==============================] - 624s 11s/step - loss: 0.1033 - accuracy: 0.9670\n",
            "Epoch 41/50\n",
            "57/57 [==============================] - 627s 11s/step - loss: 0.1146 - accuracy: 0.9570\n",
            "Epoch 42/50\n",
            "57/57 [==============================] - 630s 11s/step - loss: 0.1011 - accuracy: 0.9650\n",
            "Epoch 43/50\n",
            "57/57 [==============================] - 642s 11s/step - loss: 0.0818 - accuracy: 0.9724\n",
            "Epoch 44/50\n",
            "57/57 [==============================] - 662s 12s/step - loss: 0.0792 - accuracy: 0.9731\n",
            "Epoch 45/50\n",
            "57/57 [==============================] - 656s 12s/step - loss: 0.0626 - accuracy: 0.9797\n",
            "Epoch 46/50\n",
            "57/57 [==============================] - 651s 11s/step - loss: 0.0754 - accuracy: 0.9740\n",
            "Epoch 47/50\n",
            "57/57 [==============================] - 650s 11s/step - loss: 0.1092 - accuracy: 0.9640\n",
            "Epoch 48/50\n",
            "57/57 [==============================] - 620s 11s/step - loss: 0.0914 - accuracy: 0.9696\n",
            "Epoch 49/50\n",
            "57/57 [==============================] - 610s 11s/step - loss: 0.0547 - accuracy: 0.9793\n",
            "Epoch 50/50\n",
            "57/57 [==============================] - 606s 11s/step - loss: 0.0737 - accuracy: 0.9736\n",
            "save model\n"
          ],
          "name": "stdout"
        }
      ]
    },
    {
      "cell_type": "code",
      "metadata": {
        "id": "KorPdi818vyY"
      },
      "source": [
        ""
      ],
      "execution_count": null,
      "outputs": []
    },
    {
      "cell_type": "code",
      "metadata": {
        "id": "eiryOnuu9p8E",
        "colab": {
          "base_uri": "https://localhost:8080/"
        },
        "outputId": "2fb859e3-1cf8-4dae-9531-ceccedaca2e9"
      },
      "source": [
        "history_dict = model.history.history\n",
        "print(history_dict.keys())"
      ],
      "execution_count": null,
      "outputs": [
        {
          "output_type": "stream",
          "text": [
            "dict_keys(['loss', 'accuracy'])\n"
          ],
          "name": "stdout"
        }
      ]
    },
    {
      "cell_type": "code",
      "metadata": {
        "id": "NLlCzdXAY-Y3"
      },
      "source": [
        "# model.save('tumor.h5')\n",
        "# model.save('/content/drive/MyDrive/tumor/tumor_model.h5')"
      ],
      "execution_count": null,
      "outputs": []
    },
    {
      "cell_type": "code",
      "metadata": {
        "id": "WP9R_FU-YfOn",
        "colab": {
          "base_uri": "https://localhost:8080/",
          "height": 295
        },
        "outputId": "f1ac5671-1d76-4205-cad2-8b96d03070a8"
      },
      "source": [
        "plt.plot(model.history.history['loss'],c='purple')\n",
        "# plt.plot(model.history.history['val_loss'],c='orange')\n",
        "plt.title('Loss')\n",
        "plt.ylabel('Loss')\n",
        "plt.xlabel('Epochs')\n",
        "plt.legend(['train','test'])\n",
        "plt.show()"
      ],
      "execution_count": null,
      "outputs": [
        {
          "output_type": "display_data",
          "data": {
            "image/png": "[encoded data removed]",
            "text/plain": [
              "<Figure size 432x288 with 1 Axes>"
            ]
          },
          "metadata": {
            "tags": [],
            "needs_background": "light"
          }
        }
      ]
    },
    {
      "cell_type": "code",
      "metadata": {
        "id": "TQZa7kMLoTxN",
        "colab": {
          "base_uri": "https://localhost:8080/",
          "height": 295
        },
        "outputId": "2993e054-66eb-40e5-b813-d662075deb5a"
      },
      "source": [
        "plt.plot(model.history.history[\"accuracy\"],c = \"purple\")\n",
        "# plt.plot(model.history.history[\"val_accuracy\"],c = \"orange\")\n",
        "plt.title(\"Accuracy\")\n",
        "plt.ylabel(\"Accuracy\")\n",
        "plt.xlabel(\"Epochs\")\n",
        "plt.legend([\"train\", \"test\"])\n",
        "plt.show()"
      ],
      "execution_count": null,
      "outputs": [
        {
          "output_type": "display_data",
          "data": {
            "image/png": "[encoded data removed]",
            "text/plain": [
              "<Figure size 432x288 with 1 Axes>"
            ]
          },
          "metadata": {
            "tags": [],
            "needs_background": "light"
          }
        }
      ]
    },
    {
      "cell_type": "code",
      "metadata": {
        "id": "4oGeOn2ICCpX"
      },
      "source": [
        ""
      ],
      "execution_count": null,
      "outputs": []
    },
    {
      "cell_type": "code",
      "metadata": {
        "id": "Zkw4lHpbB3ig"
      },
      "source": [
        ""
      ],
      "execution_count": null,
      "outputs": []
    }
  ]
}