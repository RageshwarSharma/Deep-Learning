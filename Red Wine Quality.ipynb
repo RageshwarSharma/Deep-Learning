{
 "cells": [
  {
   "cell_type": "code",
   "execution_count": 67,
   "metadata": {},
   "outputs": [],
   "source": [
    "import pandas as pd\n",
    "import numpy as np\n",
    "import matplotlib.pyplot as plt \n",
    "import seaborn as sns\n",
    "from sklearn.preprocessing import StandardScaler,LabelEncoder,MinMaxScaler\n",
    "from sklearn.model_selection import train_test_split\n",
    "\n",
    "\n",
    "import keras\n",
    "from keras.models import Sequential\n",
    "from keras.layers import ReLU,Softmax,Dropout,Dense,LeakyReLU,ELU,PReLU\n"
   ]
  },
  {
   "cell_type": "code",
   "execution_count": 10,
   "metadata": {},
   "outputs": [],
   "source": [
    "df=pd.read_csv('D:\\\\python\\\\winequality-red.csv')"
   ]
  },
  {
   "cell_type": "code",
   "execution_count": 11,
   "metadata": {},
   "outputs": [
    {
     "data": {
      "text/html": [
       "<div>\n",
       "<style scoped>\n",
       "    .dataframe tbody tr th:only-of-type {\n",
       "        vertical-align: middle;\n",
       "    }\n",
       "\n",
       "    .dataframe tbody tr th {\n",
       "        vertical-align: top;\n",
       "    }\n",
       "\n",
       "    .dataframe thead th {\n",
       "        text-align: right;\n",
       "    }\n",
       "</style>\n",
       "<table border=\"1\" class=\"dataframe\">\n",
       "  <thead>\n",
       "    <tr style=\"text-align: right;\">\n",
       "      <th></th>\n",
       "      <th>fixed acidity</th>\n",
       "      <th>volatile acidity</th>\n",
       "      <th>citric acid</th>\n",
       "      <th>residual sugar</th>\n",
       "      <th>chlorides</th>\n",
       "      <th>free sulfur dioxide</th>\n",
       "      <th>total sulfur dioxide</th>\n",
       "      <th>density</th>\n",
       "      <th>pH</th>\n",
       "      <th>sulphates</th>\n",
       "      <th>alcohol</th>\n",
       "      <th>quality</th>\n",
       "    </tr>\n",
       "  </thead>\n",
       "  <tbody>\n",
       "    <tr>\n",
       "      <th>0</th>\n",
       "      <td>7.4</td>\n",
       "      <td>0.700</td>\n",
       "      <td>0.00</td>\n",
       "      <td>1.9</td>\n",
       "      <td>0.076</td>\n",
       "      <td>11.0</td>\n",
       "      <td>34.0</td>\n",
       "      <td>0.99780</td>\n",
       "      <td>3.51</td>\n",
       "      <td>0.56</td>\n",
       "      <td>9.4</td>\n",
       "      <td>5</td>\n",
       "    </tr>\n",
       "    <tr>\n",
       "      <th>1</th>\n",
       "      <td>7.8</td>\n",
       "      <td>0.880</td>\n",
       "      <td>0.00</td>\n",
       "      <td>2.6</td>\n",
       "      <td>0.098</td>\n",
       "      <td>25.0</td>\n",
       "      <td>67.0</td>\n",
       "      <td>0.99680</td>\n",
       "      <td>3.20</td>\n",
       "      <td>0.68</td>\n",
       "      <td>9.8</td>\n",
       "      <td>5</td>\n",
       "    </tr>\n",
       "    <tr>\n",
       "      <th>2</th>\n",
       "      <td>7.8</td>\n",
       "      <td>0.760</td>\n",
       "      <td>0.04</td>\n",
       "      <td>2.3</td>\n",
       "      <td>0.092</td>\n",
       "      <td>15.0</td>\n",
       "      <td>54.0</td>\n",
       "      <td>0.99700</td>\n",
       "      <td>3.26</td>\n",
       "      <td>0.65</td>\n",
       "      <td>9.8</td>\n",
       "      <td>5</td>\n",
       "    </tr>\n",
       "    <tr>\n",
       "      <th>3</th>\n",
       "      <td>11.2</td>\n",
       "      <td>0.280</td>\n",
       "      <td>0.56</td>\n",
       "      <td>1.9</td>\n",
       "      <td>0.075</td>\n",
       "      <td>17.0</td>\n",
       "      <td>60.0</td>\n",
       "      <td>0.99800</td>\n",
       "      <td>3.16</td>\n",
       "      <td>0.58</td>\n",
       "      <td>9.8</td>\n",
       "      <td>6</td>\n",
       "    </tr>\n",
       "    <tr>\n",
       "      <th>4</th>\n",
       "      <td>7.4</td>\n",
       "      <td>0.700</td>\n",
       "      <td>0.00</td>\n",
       "      <td>1.9</td>\n",
       "      <td>0.076</td>\n",
       "      <td>11.0</td>\n",
       "      <td>34.0</td>\n",
       "      <td>0.99780</td>\n",
       "      <td>3.51</td>\n",
       "      <td>0.56</td>\n",
       "      <td>9.4</td>\n",
       "      <td>5</td>\n",
       "    </tr>\n",
       "    <tr>\n",
       "      <th>...</th>\n",
       "      <td>...</td>\n",
       "      <td>...</td>\n",
       "      <td>...</td>\n",
       "      <td>...</td>\n",
       "      <td>...</td>\n",
       "      <td>...</td>\n",
       "      <td>...</td>\n",
       "      <td>...</td>\n",
       "      <td>...</td>\n",
       "      <td>...</td>\n",
       "      <td>...</td>\n",
       "      <td>...</td>\n",
       "    </tr>\n",
       "    <tr>\n",
       "      <th>1594</th>\n",
       "      <td>6.2</td>\n",
       "      <td>0.600</td>\n",
       "      <td>0.08</td>\n",
       "      <td>2.0</td>\n",
       "      <td>0.090</td>\n",
       "      <td>32.0</td>\n",
       "      <td>44.0</td>\n",
       "      <td>0.99490</td>\n",
       "      <td>3.45</td>\n",
       "      <td>0.58</td>\n",
       "      <td>10.5</td>\n",
       "      <td>5</td>\n",
       "    </tr>\n",
       "    <tr>\n",
       "      <th>1595</th>\n",
       "      <td>5.9</td>\n",
       "      <td>0.550</td>\n",
       "      <td>0.10</td>\n",
       "      <td>2.2</td>\n",
       "      <td>0.062</td>\n",
       "      <td>39.0</td>\n",
       "      <td>51.0</td>\n",
       "      <td>0.99512</td>\n",
       "      <td>3.52</td>\n",
       "      <td>0.76</td>\n",
       "      <td>11.2</td>\n",
       "      <td>6</td>\n",
       "    </tr>\n",
       "    <tr>\n",
       "      <th>1596</th>\n",
       "      <td>6.3</td>\n",
       "      <td>0.510</td>\n",
       "      <td>0.13</td>\n",
       "      <td>2.3</td>\n",
       "      <td>0.076</td>\n",
       "      <td>29.0</td>\n",
       "      <td>40.0</td>\n",
       "      <td>0.99574</td>\n",
       "      <td>3.42</td>\n",
       "      <td>0.75</td>\n",
       "      <td>11.0</td>\n",
       "      <td>6</td>\n",
       "    </tr>\n",
       "    <tr>\n",
       "      <th>1597</th>\n",
       "      <td>5.9</td>\n",
       "      <td>0.645</td>\n",
       "      <td>0.12</td>\n",
       "      <td>2.0</td>\n",
       "      <td>0.075</td>\n",
       "      <td>32.0</td>\n",
       "      <td>44.0</td>\n",
       "      <td>0.99547</td>\n",
       "      <td>3.57</td>\n",
       "      <td>0.71</td>\n",
       "      <td>10.2</td>\n",
       "      <td>5</td>\n",
       "    </tr>\n",
       "    <tr>\n",
       "      <th>1598</th>\n",
       "      <td>6.0</td>\n",
       "      <td>0.310</td>\n",
       "      <td>0.47</td>\n",
       "      <td>3.6</td>\n",
       "      <td>0.067</td>\n",
       "      <td>18.0</td>\n",
       "      <td>42.0</td>\n",
       "      <td>0.99549</td>\n",
       "      <td>3.39</td>\n",
       "      <td>0.66</td>\n",
       "      <td>11.0</td>\n",
       "      <td>6</td>\n",
       "    </tr>\n",
       "  </tbody>\n",
       "</table>\n",
       "<p>1599 rows × 12 columns</p>\n",
       "</div>"
      ],
      "text/plain": [
       "      fixed acidity  volatile acidity  citric acid  residual sugar  chlorides  \\\n",
       "0               7.4             0.700         0.00             1.9      0.076   \n",
       "1               7.8             0.880         0.00             2.6      0.098   \n",
       "2               7.8             0.760         0.04             2.3      0.092   \n",
       "3              11.2             0.280         0.56             1.9      0.075   \n",
       "4               7.4             0.700         0.00             1.9      0.076   \n",
       "...             ...               ...          ...             ...        ...   \n",
       "1594            6.2             0.600         0.08             2.0      0.090   \n",
       "1595            5.9             0.550         0.10             2.2      0.062   \n",
       "1596            6.3             0.510         0.13             2.3      0.076   \n",
       "1597            5.9             0.645         0.12             2.0      0.075   \n",
       "1598            6.0             0.310         0.47             3.6      0.067   \n",
       "\n",
       "      free sulfur dioxide  total sulfur dioxide  density    pH  sulphates  \\\n",
       "0                    11.0                  34.0  0.99780  3.51       0.56   \n",
       "1                    25.0                  67.0  0.99680  3.20       0.68   \n",
       "2                    15.0                  54.0  0.99700  3.26       0.65   \n",
       "3                    17.0                  60.0  0.99800  3.16       0.58   \n",
       "4                    11.0                  34.0  0.99780  3.51       0.56   \n",
       "...                   ...                   ...      ...   ...        ...   \n",
       "1594                 32.0                  44.0  0.99490  3.45       0.58   \n",
       "1595                 39.0                  51.0  0.99512  3.52       0.76   \n",
       "1596                 29.0                  40.0  0.99574  3.42       0.75   \n",
       "1597                 32.0                  44.0  0.99547  3.57       0.71   \n",
       "1598                 18.0                  42.0  0.99549  3.39       0.66   \n",
       "\n",
       "      alcohol  quality  \n",
       "0         9.4        5  \n",
       "1         9.8        5  \n",
       "2         9.8        5  \n",
       "3         9.8        6  \n",
       "4         9.4        5  \n",
       "...       ...      ...  \n",
       "1594     10.5        5  \n",
       "1595     11.2        6  \n",
       "1596     11.0        6  \n",
       "1597     10.2        5  \n",
       "1598     11.0        6  \n",
       "\n",
       "[1599 rows x 12 columns]"
      ]
     },
     "execution_count": 11,
     "metadata": {},
     "output_type": "execute_result"
    }
   ],
   "source": [
    "df"
   ]
  },
  {
   "cell_type": "code",
   "execution_count": 12,
   "metadata": {},
   "outputs": [
    {
     "data": {
      "text/html": [
       "<div>\n",
       "<style scoped>\n",
       "    .dataframe tbody tr th:only-of-type {\n",
       "        vertical-align: middle;\n",
       "    }\n",
       "\n",
       "    .dataframe tbody tr th {\n",
       "        vertical-align: top;\n",
       "    }\n",
       "\n",
       "    .dataframe thead th {\n",
       "        text-align: right;\n",
       "    }\n",
       "</style>\n",
       "<table border=\"1\" class=\"dataframe\">\n",
       "  <thead>\n",
       "    <tr style=\"text-align: right;\">\n",
       "      <th></th>\n",
       "      <th>fixed acidity</th>\n",
       "      <th>volatile acidity</th>\n",
       "      <th>citric acid</th>\n",
       "      <th>residual sugar</th>\n",
       "      <th>chlorides</th>\n",
       "      <th>free sulfur dioxide</th>\n",
       "      <th>total sulfur dioxide</th>\n",
       "      <th>density</th>\n",
       "      <th>pH</th>\n",
       "      <th>sulphates</th>\n",
       "      <th>alcohol</th>\n",
       "      <th>quality</th>\n",
       "    </tr>\n",
       "  </thead>\n",
       "  <tbody>\n",
       "    <tr>\n",
       "      <th>count</th>\n",
       "      <td>1599.000000</td>\n",
       "      <td>1599.000000</td>\n",
       "      <td>1599.000000</td>\n",
       "      <td>1599.000000</td>\n",
       "      <td>1599.000000</td>\n",
       "      <td>1599.000000</td>\n",
       "      <td>1599.000000</td>\n",
       "      <td>1599.000000</td>\n",
       "      <td>1599.000000</td>\n",
       "      <td>1599.000000</td>\n",
       "      <td>1599.000000</td>\n",
       "      <td>1599.000000</td>\n",
       "    </tr>\n",
       "    <tr>\n",
       "      <th>mean</th>\n",
       "      <td>8.319637</td>\n",
       "      <td>0.527821</td>\n",
       "      <td>0.270976</td>\n",
       "      <td>2.538806</td>\n",
       "      <td>0.087467</td>\n",
       "      <td>15.874922</td>\n",
       "      <td>46.467792</td>\n",
       "      <td>0.996747</td>\n",
       "      <td>3.311113</td>\n",
       "      <td>0.658149</td>\n",
       "      <td>10.422983</td>\n",
       "      <td>5.636023</td>\n",
       "    </tr>\n",
       "    <tr>\n",
       "      <th>std</th>\n",
       "      <td>1.741096</td>\n",
       "      <td>0.179060</td>\n",
       "      <td>0.194801</td>\n",
       "      <td>1.409928</td>\n",
       "      <td>0.047065</td>\n",
       "      <td>10.460157</td>\n",
       "      <td>32.895324</td>\n",
       "      <td>0.001887</td>\n",
       "      <td>0.154386</td>\n",
       "      <td>0.169507</td>\n",
       "      <td>1.065668</td>\n",
       "      <td>0.807569</td>\n",
       "    </tr>\n",
       "    <tr>\n",
       "      <th>min</th>\n",
       "      <td>4.600000</td>\n",
       "      <td>0.120000</td>\n",
       "      <td>0.000000</td>\n",
       "      <td>0.900000</td>\n",
       "      <td>0.012000</td>\n",
       "      <td>1.000000</td>\n",
       "      <td>6.000000</td>\n",
       "      <td>0.990070</td>\n",
       "      <td>2.740000</td>\n",
       "      <td>0.330000</td>\n",
       "      <td>8.400000</td>\n",
       "      <td>3.000000</td>\n",
       "    </tr>\n",
       "    <tr>\n",
       "      <th>25%</th>\n",
       "      <td>7.100000</td>\n",
       "      <td>0.390000</td>\n",
       "      <td>0.090000</td>\n",
       "      <td>1.900000</td>\n",
       "      <td>0.070000</td>\n",
       "      <td>7.000000</td>\n",
       "      <td>22.000000</td>\n",
       "      <td>0.995600</td>\n",
       "      <td>3.210000</td>\n",
       "      <td>0.550000</td>\n",
       "      <td>9.500000</td>\n",
       "      <td>5.000000</td>\n",
       "    </tr>\n",
       "    <tr>\n",
       "      <th>50%</th>\n",
       "      <td>7.900000</td>\n",
       "      <td>0.520000</td>\n",
       "      <td>0.260000</td>\n",
       "      <td>2.200000</td>\n",
       "      <td>0.079000</td>\n",
       "      <td>14.000000</td>\n",
       "      <td>38.000000</td>\n",
       "      <td>0.996750</td>\n",
       "      <td>3.310000</td>\n",
       "      <td>0.620000</td>\n",
       "      <td>10.200000</td>\n",
       "      <td>6.000000</td>\n",
       "    </tr>\n",
       "    <tr>\n",
       "      <th>75%</th>\n",
       "      <td>9.200000</td>\n",
       "      <td>0.640000</td>\n",
       "      <td>0.420000</td>\n",
       "      <td>2.600000</td>\n",
       "      <td>0.090000</td>\n",
       "      <td>21.000000</td>\n",
       "      <td>62.000000</td>\n",
       "      <td>0.997835</td>\n",
       "      <td>3.400000</td>\n",
       "      <td>0.730000</td>\n",
       "      <td>11.100000</td>\n",
       "      <td>6.000000</td>\n",
       "    </tr>\n",
       "    <tr>\n",
       "      <th>max</th>\n",
       "      <td>15.900000</td>\n",
       "      <td>1.580000</td>\n",
       "      <td>1.000000</td>\n",
       "      <td>15.500000</td>\n",
       "      <td>0.611000</td>\n",
       "      <td>72.000000</td>\n",
       "      <td>289.000000</td>\n",
       "      <td>1.003690</td>\n",
       "      <td>4.010000</td>\n",
       "      <td>2.000000</td>\n",
       "      <td>14.900000</td>\n",
       "      <td>8.000000</td>\n",
       "    </tr>\n",
       "  </tbody>\n",
       "</table>\n",
       "</div>"
      ],
      "text/plain": [
       "       fixed acidity  volatile acidity  citric acid  residual sugar  \\\n",
       "count    1599.000000       1599.000000  1599.000000     1599.000000   \n",
       "mean        8.319637          0.527821     0.270976        2.538806   \n",
       "std         1.741096          0.179060     0.194801        1.409928   \n",
       "min         4.600000          0.120000     0.000000        0.900000   \n",
       "25%         7.100000          0.390000     0.090000        1.900000   \n",
       "50%         7.900000          0.520000     0.260000        2.200000   \n",
       "75%         9.200000          0.640000     0.420000        2.600000   \n",
       "max        15.900000          1.580000     1.000000       15.500000   \n",
       "\n",
       "         chlorides  free sulfur dioxide  total sulfur dioxide      density  \\\n",
       "count  1599.000000          1599.000000           1599.000000  1599.000000   \n",
       "mean      0.087467            15.874922             46.467792     0.996747   \n",
       "std       0.047065            10.460157             32.895324     0.001887   \n",
       "min       0.012000             1.000000              6.000000     0.990070   \n",
       "25%       0.070000             7.000000             22.000000     0.995600   \n",
       "50%       0.079000            14.000000             38.000000     0.996750   \n",
       "75%       0.090000            21.000000             62.000000     0.997835   \n",
       "max       0.611000            72.000000            289.000000     1.003690   \n",
       "\n",
       "                pH    sulphates      alcohol      quality  \n",
       "count  1599.000000  1599.000000  1599.000000  1599.000000  \n",
       "mean      3.311113     0.658149    10.422983     5.636023  \n",
       "std       0.154386     0.169507     1.065668     0.807569  \n",
       "min       2.740000     0.330000     8.400000     3.000000  \n",
       "25%       3.210000     0.550000     9.500000     5.000000  \n",
       "50%       3.310000     0.620000    10.200000     6.000000  \n",
       "75%       3.400000     0.730000    11.100000     6.000000  \n",
       "max       4.010000     2.000000    14.900000     8.000000  "
      ]
     },
     "execution_count": 12,
     "metadata": {},
     "output_type": "execute_result"
    }
   ],
   "source": [
    "df.describe()"
   ]
  },
  {
   "cell_type": "code",
   "execution_count": 13,
   "metadata": {},
   "outputs": [
    {
     "data": {
      "text/plain": [
       "fixed acidity           0\n",
       "volatile acidity        0\n",
       "citric acid             0\n",
       "residual sugar          0\n",
       "chlorides               0\n",
       "free sulfur dioxide     0\n",
       "total sulfur dioxide    0\n",
       "density                 0\n",
       "pH                      0\n",
       "sulphates               0\n",
       "alcohol                 0\n",
       "quality                 0\n",
       "dtype: int64"
      ]
     },
     "execution_count": 13,
     "metadata": {},
     "output_type": "execute_result"
    }
   ],
   "source": [
    "df.isnull().sum()"
   ]
  },
  {
   "cell_type": "code",
   "execution_count": 15,
   "metadata": {},
   "outputs": [
    {
     "data": {
      "text/plain": [
       "<matplotlib.axes._subplots.AxesSubplot at 0x1dac121cac8>"
      ]
     },
     "execution_count": 15,
     "metadata": {},
     "output_type": "execute_result"
    },
    {
     "data": {
      "image/png": "[encoded data removed]",
      "text/plain": [
       "<Figure size 432x288 with 1 Axes>"
      ]
     },
     "metadata": {
      "needs_background": "light"
     },
     "output_type": "display_data"
    }
   ],
   "source": [
    "sns.barplot(x='quality',y='fixed acidity',data=df)"
   ]
  },
  {
   "cell_type": "code",
   "execution_count": 16,
   "metadata": {},
   "outputs": [
    {
     "data": {
      "text/plain": [
       "<matplotlib.axes._subplots.AxesSubplot at 0x1dac32e0508>"
      ]
     },
     "execution_count": 16,
     "metadata": {},
     "output_type": "execute_result"
    },
    {
     "data": {
      "image/png": "[encoded data removed]",
      "text/plain": [
       "<Figure size 432x288 with 1 Axes>"
      ]
     },
     "metadata": {
      "needs_background": "light"
     },
     "output_type": "display_data"
    }
   ],
   "source": [
    "sns.barplot(x='quality',y='volatile acidity',data=df)"
   ]
  },
  {
   "cell_type": "code",
   "execution_count": 17,
   "metadata": {},
   "outputs": [
    {
     "data": {
      "text/plain": [
       "<matplotlib.axes._subplots.AxesSubplot at 0x1dac33760c8>"
      ]
     },
     "execution_count": 17,
     "metadata": {},
     "output_type": "execute_result"
    },
    {
     "data": {
      "image/png": "[encoded data removed]",
      "text/plain": [
       "<Figure size 432x288 with 1 Axes>"
      ]
     },
     "metadata": {
      "needs_background": "light"
     },
     "output_type": "display_data"
    }
   ],
   "source": [
    "sns.barplot(x='quality',y='citric acid',data=df) "
   ]
  },
  {
   "cell_type": "code",
   "execution_count": 18,
   "metadata": {},
   "outputs": [
    {
     "data": {
      "text/plain": [
       "<matplotlib.axes._subplots.AxesSubplot at 0x1dac33eadc8>"
      ]
     },
     "execution_count": 18,
     "metadata": {},
     "output_type": "execute_result"
    },
    {
     "data": {
      "image/png": "[encoded data removed]",
      "text/plain": [
       "<Figure size 432x288 with 1 Axes>"
      ]
     },
     "metadata": {
      "needs_background": "light"
     },
     "output_type": "display_data"
    }
   ],
   "source": [
    "sns.barplot(x = 'quality', y = 'residual sugar', data = df)"
   ]
  },
  {
   "cell_type": "code",
   "execution_count": 19,
   "metadata": {},
   "outputs": [
    {
     "data": {
      "text/plain": [
       "<matplotlib.axes._subplots.AxesSubplot at 0x1dac347ba48>"
      ]
     },
     "execution_count": 19,
     "metadata": {},
     "output_type": "execute_result"
    },
    {
     "data": {
      "image/png": "[encoded data removed]",
      "text/plain": [
       "<Figure size 432x288 with 1 Axes>"
      ]
     },
     "metadata": {
      "needs_background": "light"
     },
     "output_type": "display_data"
    }
   ],
   "source": [
    "sns.barplot(x = 'quality', y = 'chlorides', data = df)"
   ]
  },
  {
   "cell_type": "code",
   "execution_count": 20,
   "metadata": {},
   "outputs": [
    {
     "data": {
      "text/plain": [
       "<matplotlib.axes._subplots.AxesSubplot at 0x1dac34ff4c8>"
      ]
     },
     "execution_count": 20,
     "metadata": {},
     "output_type": "execute_result"
    },
    {
     "data": {
      "image/png": "[encoded data removed]",
      "text/plain": [
       "<Figure size 432x288 with 1 Axes>"
      ]
     },
     "metadata": {
      "needs_background": "light"
     },
     "output_type": "display_data"
    }
   ],
   "source": [
    "sns.barplot(x = 'quality', y = 'free sulfur dioxide', data = df)"
   ]
  },
  {
   "cell_type": "code",
   "execution_count": 21,
   "metadata": {},
   "outputs": [
    {
     "data": {
      "text/plain": [
       "<matplotlib.axes._subplots.AxesSubplot at 0x1dac357e408>"
      ]
     },
     "execution_count": 21,
     "metadata": {},
     "output_type": "execute_result"
    },
    {
     "data": {
      "image/png": "[encoded data removed]",
      "text/plain": [
       "<Figure size 432x288 with 1 Axes>"
      ]
     },
     "metadata": {
      "needs_background": "light"
     },
     "output_type": "display_data"
    }
   ],
   "source": [
    "sns.barplot(x = 'quality', y = 'total sulfur dioxide', data = df)"
   ]
  },
  {
   "cell_type": "code",
   "execution_count": 22,
   "metadata": {},
   "outputs": [
    {
     "data": {
      "text/plain": [
       "<matplotlib.axes._subplots.AxesSubplot at 0x1dac3607288>"
      ]
     },
     "execution_count": 22,
     "metadata": {},
     "output_type": "execute_result"
    },
    {
     "data": {
      "image/png": "[encoded data removed]",
      "text/plain": [
       "<Figure size 432x288 with 1 Axes>"
      ]
     },
     "metadata": {
      "needs_background": "light"
     },
     "output_type": "display_data"
    }
   ],
   "source": [
    "sns.barplot(x = 'quality', y = 'density', data = df)"
   ]
  },
  {
   "cell_type": "code",
   "execution_count": 23,
   "metadata": {},
   "outputs": [
    {
     "data": {
      "text/plain": [
       "<matplotlib.axes._subplots.AxesSubplot at 0x1dac3684188>"
      ]
     },
     "execution_count": 23,
     "metadata": {},
     "output_type": "execute_result"
    },
    {
     "data": {
      "image/png": "[encoded data removed]",
      "text/plain": [
       "<Figure size 432x288 with 1 Axes>"
      ]
     },
     "metadata": {
      "needs_background": "light"
     },
     "output_type": "display_data"
    }
   ],
   "source": [
    "sns.barplot(x = 'quality', y = 'pH', data = df)"
   ]
  },
  {
   "cell_type": "code",
   "execution_count": 24,
   "metadata": {},
   "outputs": [
    {
     "data": {
      "text/plain": [
       "<matplotlib.axes._subplots.AxesSubplot at 0x1dac370a248>"
      ]
     },
     "execution_count": 24,
     "metadata": {},
     "output_type": "execute_result"
    },
    {
     "data": {
      "image/png": "[encoded data removed]",
      "text/plain": [
       "<Figure size 432x288 with 1 Axes>"
      ]
     },
     "metadata": {
      "needs_background": "light"
     },
     "output_type": "display_data"
    }
   ],
   "source": [
    "sns.barplot(x = 'quality', y = 'sulphates', data = df)"
   ]
  },
  {
   "cell_type": "code",
   "execution_count": 25,
   "metadata": {},
   "outputs": [
    {
     "data": {
      "text/plain": [
       "<matplotlib.axes._subplots.AxesSubplot at 0x1dac3784748>"
      ]
     },
     "execution_count": 25,
     "metadata": {},
     "output_type": "execute_result"
    },
    {
     "data": {
      "image/png": "[encoded data removed]",
      "text/plain": [
       "<Figure size 432x288 with 1 Axes>"
      ]
     },
     "metadata": {
      "needs_background": "light"
     },
     "output_type": "display_data"
    }
   ],
   "source": [
    "sns.barplot(x = 'quality', y = 'alcohol', data = df)"
   ]
  },
  {
   "cell_type": "code",
   "execution_count": 26,
   "metadata": {},
   "outputs": [
    {
     "data": {
      "text/plain": [
       "<matplotlib.axes._subplots.AxesSubplot at 0x1dac37fff48>"
      ]
     },
     "execution_count": 26,
     "metadata": {},
     "output_type": "execute_result"
    },
    {
     "data": {
      "image/png": "[encoded data removed]",
      "text/plain": [
       "<Figure size 720x360 with 2 Axes>"
      ]
     },
     "metadata": {
      "needs_background": "light"
     },
     "output_type": "display_data"
    }
   ],
   "source": [
    "plt.figure(figsize=(10,5))\n",
    "corr=df.corr()\n",
    "sns.heatmap(data=corr,annot=True)"
   ]
  },
  {
   "cell_type": "code",
   "execution_count": 35,
   "metadata": {
    "scrolled": false
   },
   "outputs": [
    {
     "data": {
      "image/png": "[encoded data removed]",
      "text/plain": [
       "<Figure size 432x1440 with 12 Axes>"
      ]
     },
     "metadata": {
      "needs_background": "light"
     },
     "output_type": "display_data"
    }
   ],
   "source": [
    "df.plot(kind='kde', subplots=True, figsize=(6,20), sharex=True )\n",
    "plt.show()"
   ]
  },
  {
   "cell_type": "code",
   "execution_count": 38,
   "metadata": {},
   "outputs": [
    {
     "data": {
      "text/plain": [
       "5    681\n",
       "6    638\n",
       "7    199\n",
       "4     53\n",
       "8     18\n",
       "3     10\n",
       "Name: quality, dtype: int64"
      ]
     },
     "execution_count": 38,
     "metadata": {},
     "output_type": "execute_result"
    }
   ],
   "source": [
    "df['quality'].value_counts()"
   ]
  },
  {
   "cell_type": "code",
   "execution_count": 36,
   "metadata": {},
   "outputs": [
    {
     "data": {
      "text/plain": [
       "<matplotlib.axes._subplots.AxesSubplot at 0x1dac60071c8>"
      ]
     },
     "execution_count": 36,
     "metadata": {},
     "output_type": "execute_result"
    },
    {
     "data": {
      "image/png": "[encoded data removed]",
      "text/plain": [
       "<Figure size 432x288 with 1 Axes>"
      ]
     },
     "metadata": {
      "needs_background": "light"
     },
     "output_type": "display_data"
    }
   ],
   "source": [
    "sns.countplot(x='quality',data=df)"
   ]
  },
  {
   "cell_type": "code",
   "execution_count": 44,
   "metadata": {},
   "outputs": [],
   "source": [
    "# We are going to make segmentation of quality column in 0,1\n",
    "\n",
    "bins = (2,6.5,8)\n",
    "group_names = ['bad','good']\n",
    "df['quality'] = pd.cut(df['quality'],bins=bins, labels=group_names)"
   ]
  },
  {
   "cell_type": "code",
   "execution_count": 50,
   "metadata": {},
   "outputs": [],
   "source": [
    "encode = LabelEncoder()"
   ]
  },
  {
   "cell_type": "code",
   "execution_count": 51,
   "metadata": {},
   "outputs": [],
   "source": [
    "df['quality'] = encode.fit_transform(df['quality'])"
   ]
  },
  {
   "cell_type": "code",
   "execution_count": 52,
   "metadata": {},
   "outputs": [
    {
     "data": {
      "text/plain": [
       "0    1382\n",
       "1     217\n",
       "Name: quality, dtype: int64"
      ]
     },
     "execution_count": 52,
     "metadata": {},
     "output_type": "execute_result"
    }
   ],
   "source": [
    "df['quality'].value_counts()"
   ]
  },
  {
   "cell_type": "code",
   "execution_count": 53,
   "metadata": {},
   "outputs": [
    {
     "data": {
      "text/plain": [
       "<matplotlib.axes._subplots.AxesSubplot at 0x1dac5d7c588>"
      ]
     },
     "execution_count": 53,
     "metadata": {},
     "output_type": "execute_result"
    },
    {
     "data": {
      "image/png": "[encoded data removed]",
      "text/plain": [
       "<Figure size 432x288 with 1 Axes>"
      ]
     },
     "metadata": {
      "needs_background": "light"
     },
     "output_type": "display_data"
    }
   ],
   "source": [
    "sns.countplot(df['quality'])"
   ]
  },
  {
   "cell_type": "code",
   "execution_count": 54,
   "metadata": {},
   "outputs": [
    {
     "data": {
      "text/html": [
       "<div>\n",
       "<style scoped>\n",
       "    .dataframe tbody tr th:only-of-type {\n",
       "        vertical-align: middle;\n",
       "    }\n",
       "\n",
       "    .dataframe tbody tr th {\n",
       "        vertical-align: top;\n",
       "    }\n",
       "\n",
       "    .dataframe thead th {\n",
       "        text-align: right;\n",
       "    }\n",
       "</style>\n",
       "<table border=\"1\" class=\"dataframe\">\n",
       "  <thead>\n",
       "    <tr style=\"text-align: right;\">\n",
       "      <th></th>\n",
       "      <th>fixed acidity</th>\n",
       "      <th>volatile acidity</th>\n",
       "      <th>citric acid</th>\n",
       "      <th>residual sugar</th>\n",
       "      <th>chlorides</th>\n",
       "      <th>free sulfur dioxide</th>\n",
       "      <th>total sulfur dioxide</th>\n",
       "      <th>density</th>\n",
       "      <th>pH</th>\n",
       "      <th>sulphates</th>\n",
       "      <th>alcohol</th>\n",
       "      <th>quality</th>\n",
       "    </tr>\n",
       "  </thead>\n",
       "  <tbody>\n",
       "    <tr>\n",
       "      <th>0</th>\n",
       "      <td>7.4</td>\n",
       "      <td>0.70</td>\n",
       "      <td>0.00</td>\n",
       "      <td>1.9</td>\n",
       "      <td>0.076</td>\n",
       "      <td>11.0</td>\n",
       "      <td>34.0</td>\n",
       "      <td>0.9978</td>\n",
       "      <td>3.51</td>\n",
       "      <td>0.56</td>\n",
       "      <td>9.4</td>\n",
       "      <td>0</td>\n",
       "    </tr>\n",
       "    <tr>\n",
       "      <th>1</th>\n",
       "      <td>7.8</td>\n",
       "      <td>0.88</td>\n",
       "      <td>0.00</td>\n",
       "      <td>2.6</td>\n",
       "      <td>0.098</td>\n",
       "      <td>25.0</td>\n",
       "      <td>67.0</td>\n",
       "      <td>0.9968</td>\n",
       "      <td>3.20</td>\n",
       "      <td>0.68</td>\n",
       "      <td>9.8</td>\n",
       "      <td>0</td>\n",
       "    </tr>\n",
       "    <tr>\n",
       "      <th>2</th>\n",
       "      <td>7.8</td>\n",
       "      <td>0.76</td>\n",
       "      <td>0.04</td>\n",
       "      <td>2.3</td>\n",
       "      <td>0.092</td>\n",
       "      <td>15.0</td>\n",
       "      <td>54.0</td>\n",
       "      <td>0.9970</td>\n",
       "      <td>3.26</td>\n",
       "      <td>0.65</td>\n",
       "      <td>9.8</td>\n",
       "      <td>0</td>\n",
       "    </tr>\n",
       "    <tr>\n",
       "      <th>3</th>\n",
       "      <td>11.2</td>\n",
       "      <td>0.28</td>\n",
       "      <td>0.56</td>\n",
       "      <td>1.9</td>\n",
       "      <td>0.075</td>\n",
       "      <td>17.0</td>\n",
       "      <td>60.0</td>\n",
       "      <td>0.9980</td>\n",
       "      <td>3.16</td>\n",
       "      <td>0.58</td>\n",
       "      <td>9.8</td>\n",
       "      <td>0</td>\n",
       "    </tr>\n",
       "    <tr>\n",
       "      <th>4</th>\n",
       "      <td>7.4</td>\n",
       "      <td>0.70</td>\n",
       "      <td>0.00</td>\n",
       "      <td>1.9</td>\n",
       "      <td>0.076</td>\n",
       "      <td>11.0</td>\n",
       "      <td>34.0</td>\n",
       "      <td>0.9978</td>\n",
       "      <td>3.51</td>\n",
       "      <td>0.56</td>\n",
       "      <td>9.4</td>\n",
       "      <td>0</td>\n",
       "    </tr>\n",
       "  </tbody>\n",
       "</table>\n",
       "</div>"
      ],
      "text/plain": [
       "   fixed acidity  volatile acidity  citric acid  residual sugar  chlorides  \\\n",
       "0            7.4              0.70         0.00             1.9      0.076   \n",
       "1            7.8              0.88         0.00             2.6      0.098   \n",
       "2            7.8              0.76         0.04             2.3      0.092   \n",
       "3           11.2              0.28         0.56             1.9      0.075   \n",
       "4            7.4              0.70         0.00             1.9      0.076   \n",
       "\n",
       "   free sulfur dioxide  total sulfur dioxide  density    pH  sulphates  \\\n",
       "0                 11.0                  34.0   0.9978  3.51       0.56   \n",
       "1                 25.0                  67.0   0.9968  3.20       0.68   \n",
       "2                 15.0                  54.0   0.9970  3.26       0.65   \n",
       "3                 17.0                  60.0   0.9980  3.16       0.58   \n",
       "4                 11.0                  34.0   0.9978  3.51       0.56   \n",
       "\n",
       "   alcohol  quality  \n",
       "0      9.4        0  \n",
       "1      9.8        0  \n",
       "2      9.8        0  \n",
       "3      9.8        0  \n",
       "4      9.4        0  "
      ]
     },
     "execution_count": 54,
     "metadata": {},
     "output_type": "execute_result"
    }
   ],
   "source": [
    "df.head()"
   ]
  },
  {
   "cell_type": "code",
   "execution_count": 55,
   "metadata": {},
   "outputs": [],
   "source": [
    "x = df.drop(['quality'],axis=1)\n",
    "y=df[['quality']]"
   ]
  },
  {
   "cell_type": "code",
   "execution_count": 60,
   "metadata": {},
   "outputs": [
    {
     "data": {
      "text/plain": [
       "(1599, 11)"
      ]
     },
     "execution_count": 60,
     "metadata": {},
     "output_type": "execute_result"
    }
   ],
   "source": [
    "x.shape"
   ]
  },
  {
   "cell_type": "code",
   "execution_count": 61,
   "metadata": {},
   "outputs": [
    {
     "data": {
      "text/plain": [
       "(1599, 1)"
      ]
     },
     "execution_count": 61,
     "metadata": {},
     "output_type": "execute_result"
    }
   ],
   "source": [
    "y.shape"
   ]
  },
  {
   "cell_type": "code",
   "execution_count": 62,
   "metadata": {},
   "outputs": [],
   "source": [
    "train_x,test_x,train_y,test_y=train_test_split(x,y,test_size=0.2,random_state=0)"
   ]
  },
  {
   "cell_type": "code",
   "execution_count": 64,
   "metadata": {},
   "outputs": [],
   "source": [
    "scaler = MinMaxScaler()\n",
    "train_x = scaler.fit_transform(train_x)\n",
    "test_x = scaler.fit_transform(test_x)"
   ]
  },
  {
   "cell_type": "code",
   "execution_count": 65,
   "metadata": {},
   "outputs": [],
   "source": [
    "train_y = train_y.to_numpy()\n",
    "test_y = test_y.to_numpy()"
   ]
  },
  {
   "cell_type": "code",
   "execution_count": 66,
   "metadata": {},
   "outputs": [],
   "source": [
    "# Applying Model"
   ]
  },
  {
   "cell_type": "code",
   "execution_count": 68,
   "metadata": {},
   "outputs": [],
   "source": [
    "mymodel = Sequential()"
   ]
  },
  {
   "cell_type": "code",
   "execution_count": 69,
   "metadata": {},
   "outputs": [],
   "source": [
    "mymodel.add(Dense(units=16, kernel_initializer='he_uniform',activation='relu',input_dim=11))\n",
    "mymodel.add(Dropout(0.3))"
   ]
  },
  {
   "cell_type": "code",
   "execution_count": 70,
   "metadata": {},
   "outputs": [],
   "source": [
    "mymodel.add(Dense(units=10,kernel_initializer='he_uniform',activation='sigmoid',input_dim=11))"
   ]
  },
  {
   "cell_type": "code",
   "execution_count": 71,
   "metadata": {},
   "outputs": [],
   "source": [
    "mymodel.add(Dense(units=14,kernel_initializer='he_uniform',activation='relu',input_dim=11))\n",
    "mymodel.add(Dropout(0.4))"
   ]
  },
  {
   "cell_type": "code",
   "execution_count": 72,
   "metadata": {},
   "outputs": [],
   "source": [
    "mymodel.add(Dense(units=20,kernel_initializer='he_uniform',activation='relu',input_dim=11))"
   ]
  },
  {
   "cell_type": "code",
   "execution_count": 73,
   "metadata": {},
   "outputs": [],
   "source": [
    "mymodel.add(Dense(units=1,kernel_initializer='glorot_uniform',activation='sigmoid'))"
   ]
  },
  {
   "cell_type": "code",
   "execution_count": 74,
   "metadata": {},
   "outputs": [
    {
     "name": "stdout",
     "output_type": "stream",
     "text": [
      "Model: \"sequential_1\"\n",
      "_________________________________________________________________\n",
      "Layer (type)                 Output Shape              Param #   \n",
      "=================================================================\n",
      "dense_1 (Dense)              (None, 6)                 72        \n",
      "_________________________________________________________________\n",
      "dropout_1 (Dropout)          (None, 6)                 0         \n",
      "_________________________________________________________________\n",
      "dense_2 (Dense)              (None, 10)                70        \n",
      "_________________________________________________________________\n",
      "dense_3 (Dense)              (None, 14)                154       \n",
      "_________________________________________________________________\n",
      "dropout_2 (Dropout)          (None, 14)                0         \n",
      "_________________________________________________________________\n",
      "dense_4 (Dense)              (None, 20)                300       \n",
      "_________________________________________________________________\n",
      "dense_5 (Dense)              (None, 1)                 21        \n",
      "=================================================================\n",
      "Total params: 617\n",
      "Trainable params: 617\n",
      "Non-trainable params: 0\n",
      "_________________________________________________________________\n"
     ]
    }
   ],
   "source": [
    "mymodel.summary()"
   ]
  },
  {
   "cell_type": "code",
   "execution_count": 75,
   "metadata": {},
   "outputs": [],
   "source": [
    "mymodel.compile(optimizer='adam',loss='binary_crossentropy',metrics=['accuracy'])"
   ]
  },
  {
   "cell_type": "code",
   "execution_count": 77,
   "metadata": {},
   "outputs": [
    {
     "name": "stdout",
     "output_type": "stream",
     "text": [
      "Train on 856 samples, validate on 423 samples\n",
      "Epoch 1/300\n",
      "856/856 [==============================] - ETA: 0s - loss: 0.2892 - accuracy: 0.86 - 0s 342us/step - loss: 0.2888 - accuracy: 0.8645 - val_loss: 0.2832 - val_accuracy: 0.8818\n",
      "Epoch 2/300\n",
      "856/856 [==============================] - 0s 414us/step - loss: 0.2900 - accuracy: 0.8621 - val_loss: 0.2861 - val_accuracy: 0.8960\n",
      "Epoch 3/300\n",
      "856/856 [==============================] - 0s 395us/step - loss: 0.2833 - accuracy: 0.8575 - val_loss: 0.2779 - val_accuracy: 0.8842\n",
      "Epoch 4/300\n",
      "856/856 [==============================] - 0s 362us/step - loss: 0.2802 - accuracy: 0.8750 - val_loss: 0.2783 - val_accuracy: 0.8842\n",
      "Epoch 5/300\n",
      "856/856 [==============================] - 0s 265us/step - loss: 0.2890 - accuracy: 0.8575 - val_loss: 0.2880 - val_accuracy: 0.8983\n",
      "Epoch 6/300\n",
      "856/856 [==============================] - 0s 245us/step - loss: 0.2901 - accuracy: 0.8551 - val_loss: 0.2818 - val_accuracy: 0.8983\n",
      "Epoch 7/300\n",
      "856/856 [==============================] - 0s 267us/step - loss: 0.2843 - accuracy: 0.8633 - val_loss: 0.2803 - val_accuracy: 0.8936\n",
      "Epoch 8/300\n",
      "856/856 [==============================] - 0s 214us/step - loss: 0.2915 - accuracy: 0.8540 - val_loss: 0.2832 - val_accuracy: 0.8983\n",
      "Epoch 9/300\n",
      "856/856 [==============================] - 0s 262us/step - loss: 0.2787 - accuracy: 0.8692 - val_loss: 0.2880 - val_accuracy: 0.8983\n",
      "Epoch 10/300\n",
      "856/856 [==============================] - 0s 268us/step - loss: 0.2817 - accuracy: 0.8715 - val_loss: 0.2883 - val_accuracy: 0.8936\n",
      "Epoch 11/300\n",
      "856/856 [==============================] - 0s 272us/step - loss: 0.2913 - accuracy: 0.8528 - val_loss: 0.2845 - val_accuracy: 0.8818\n",
      "Epoch 12/300\n",
      "856/856 [==============================] - ETA: 0s - loss: 0.2852 - accuracy: 0.86 - 0s 280us/step - loss: 0.2907 - accuracy: 0.8692 - val_loss: 0.2895 - val_accuracy: 0.8936\n",
      "Epoch 13/300\n",
      "856/856 [==============================] - 0s 251us/step - loss: 0.2837 - accuracy: 0.8703 - val_loss: 0.2804 - val_accuracy: 0.8936\n",
      "Epoch 14/300\n",
      "856/856 [==============================] - 0s 229us/step - loss: 0.2829 - accuracy: 0.8610 - val_loss: 0.2943 - val_accuracy: 0.8889\n",
      "Epoch 15/300\n",
      "856/856 [==============================] - 0s 232us/step - loss: 0.2880 - accuracy: 0.8680 - val_loss: 0.2818 - val_accuracy: 0.8889\n",
      "Epoch 16/300\n",
      "856/856 [==============================] - 0s 283us/step - loss: 0.2978 - accuracy: 0.8645 - val_loss: 0.2826 - val_accuracy: 0.8818\n",
      "Epoch 17/300\n",
      "856/856 [==============================] - 0s 255us/step - loss: 0.2894 - accuracy: 0.8645 - val_loss: 0.2876 - val_accuracy: 0.8983\n",
      "Epoch 18/300\n",
      "856/856 [==============================] - 0s 301us/step - loss: 0.2833 - accuracy: 0.8750 - val_loss: 0.2763 - val_accuracy: 0.8913\n",
      "Epoch 19/300\n",
      "856/856 [==============================] - 0s 244us/step - loss: 0.2806 - accuracy: 0.8692 - val_loss: 0.2776 - val_accuracy: 0.9007\n",
      "Epoch 20/300\n",
      "856/856 [==============================] - 0s 270us/step - loss: 0.2915 - accuracy: 0.8657 - val_loss: 0.2778 - val_accuracy: 0.8771\n",
      "Epoch 21/300\n",
      "856/856 [==============================] - 0s 305us/step - loss: 0.2900 - accuracy: 0.8703 - val_loss: 0.2861 - val_accuracy: 0.9007\n",
      "Epoch 22/300\n",
      "856/856 [==============================] - 0s 276us/step - loss: 0.2851 - accuracy: 0.8727 - val_loss: 0.2783 - val_accuracy: 0.8842\n",
      "Epoch 23/300\n",
      "856/856 [==============================] - 0s 441us/step - loss: 0.2782 - accuracy: 0.8703 - val_loss: 0.2759 - val_accuracy: 0.9031\n",
      "Epoch 24/300\n",
      "856/856 [==============================] - 0s 315us/step - loss: 0.2874 - accuracy: 0.8645 - val_loss: 0.2786 - val_accuracy: 0.8842\n",
      "Epoch 25/300\n",
      "856/856 [==============================] - 0s 379us/step - loss: 0.2767 - accuracy: 0.8715 - val_loss: 0.2830 - val_accuracy: 0.8960\n",
      "Epoch 26/300\n",
      "856/856 [==============================] - 0s 368us/step - loss: 0.2822 - accuracy: 0.8680 - val_loss: 0.2872 - val_accuracy: 0.8960\n",
      "Epoch 27/300\n",
      "856/856 [==============================] - 0s 410us/step - loss: 0.2894 - accuracy: 0.8645 - val_loss: 0.2797 - val_accuracy: 0.8983\n",
      "Epoch 28/300\n",
      "856/856 [==============================] - 0s 380us/step - loss: 0.2956 - accuracy: 0.8703 - val_loss: 0.2849 - val_accuracy: 0.8889\n",
      "Epoch 29/300\n",
      "856/856 [==============================] - 0s 368us/step - loss: 0.2851 - accuracy: 0.8598 - val_loss: 0.2815 - val_accuracy: 0.8723\n",
      "Epoch 30/300\n",
      "856/856 [==============================] - 0s 251us/step - loss: 0.2754 - accuracy: 0.8715 - val_loss: 0.2755 - val_accuracy: 0.8913\n",
      "Epoch 31/300\n",
      "856/856 [==============================] - 0s 299us/step - loss: 0.2866 - accuracy: 0.8727 - val_loss: 0.2755 - val_accuracy: 0.8842\n",
      "Epoch 32/300\n",
      "856/856 [==============================] - 0s 264us/step - loss: 0.2773 - accuracy: 0.8703 - val_loss: 0.2765 - val_accuracy: 0.8865\n",
      "Epoch 33/300\n",
      "856/856 [==============================] - 0s 257us/step - loss: 0.2886 - accuracy: 0.8703 - val_loss: 0.2832 - val_accuracy: 0.8913\n",
      "Epoch 34/300\n",
      "856/856 [==============================] - 0s 245us/step - loss: 0.2783 - accuracy: 0.8773 - val_loss: 0.2722 - val_accuracy: 0.8889\n",
      "Epoch 35/300\n",
      "856/856 [==============================] - 0s 346us/step - loss: 0.2824 - accuracy: 0.8598 - val_loss: 0.2746 - val_accuracy: 0.9007\n",
      "Epoch 36/300\n",
      "856/856 [==============================] - 0s 323us/step - loss: 0.2840 - accuracy: 0.8692 - val_loss: 0.2779 - val_accuracy: 0.8983\n",
      "Epoch 37/300\n",
      "856/856 [==============================] - 0s 271us/step - loss: 0.2741 - accuracy: 0.8820 - val_loss: 0.2700 - val_accuracy: 0.8842\n",
      "Epoch 38/300\n",
      "856/856 [==============================] - 0s 297us/step - loss: 0.2899 - accuracy: 0.8703 - val_loss: 0.2818 - val_accuracy: 0.9007\n",
      "Epoch 39/300\n",
      "856/856 [==============================] - 0s 303us/step - loss: 0.2856 - accuracy: 0.8633 - val_loss: 0.2949 - val_accuracy: 0.8865\n",
      "Epoch 40/300\n",
      "856/856 [==============================] - 0s 262us/step - loss: 0.2911 - accuracy: 0.8516 - val_loss: 0.2894 - val_accuracy: 0.9007\n",
      "Epoch 41/300\n",
      "856/856 [==============================] - 0s 253us/step - loss: 0.2720 - accuracy: 0.8715 - val_loss: 0.2823 - val_accuracy: 0.8983\n",
      "Epoch 42/300\n",
      "856/856 [==============================] - 0s 295us/step - loss: 0.2785 - accuracy: 0.8633 - val_loss: 0.2869 - val_accuracy: 0.8983\n",
      "Epoch 43/300\n",
      "856/856 [==============================] - 0s 266us/step - loss: 0.2848 - accuracy: 0.8610 - val_loss: 0.2838 - val_accuracy: 0.8936\n",
      "Epoch 44/300\n",
      "856/856 [==============================] - 0s 242us/step - loss: 0.2754 - accuracy: 0.8762 - val_loss: 0.2739 - val_accuracy: 0.9007\n",
      "Epoch 45/300\n",
      "856/856 [==============================] - 0s 199us/step - loss: 0.2877 - accuracy: 0.8703 - val_loss: 0.2754 - val_accuracy: 0.8936\n",
      "Epoch 46/300\n",
      "856/856 [==============================] - 0s 301us/step - loss: 0.2787 - accuracy: 0.8621 - val_loss: 0.2729 - val_accuracy: 0.9007\n",
      "Epoch 47/300\n",
      "856/856 [==============================] - 0s 298us/step - loss: 0.2791 - accuracy: 0.8727 - val_loss: 0.2739 - val_accuracy: 0.9031\n",
      "Epoch 48/300\n",
      "856/856 [==============================] - 0s 272us/step - loss: 0.2828 - accuracy: 0.8610 - val_loss: 0.2737 - val_accuracy: 0.9007\n",
      "Epoch 49/300\n",
      "856/856 [==============================] - 0s 381us/step - loss: 0.2819 - accuracy: 0.8657 - val_loss: 0.2789 - val_accuracy: 0.9007\n",
      "Epoch 50/300\n",
      "856/856 [==============================] - 0s 393us/step - loss: 0.2773 - accuracy: 0.8750 - val_loss: 0.2838 - val_accuracy: 0.8913\n",
      "Epoch 51/300\n",
      "856/856 [==============================] - 0s 402us/step - loss: 0.2876 - accuracy: 0.8692 - val_loss: 0.2809 - val_accuracy: 0.8960\n",
      "Epoch 52/300\n",
      "856/856 [==============================] - 0s 359us/step - loss: 0.2795 - accuracy: 0.8610 - val_loss: 0.2796 - val_accuracy: 0.9007\n",
      "Epoch 53/300\n",
      "856/856 [==============================] - 0s 288us/step - loss: 0.2881 - accuracy: 0.8610 - val_loss: 0.2826 - val_accuracy: 0.8960\n",
      "Epoch 54/300\n",
      "856/856 [==============================] - 0s 254us/step - loss: 0.2898 - accuracy: 0.8692 - val_loss: 0.2791 - val_accuracy: 0.9054\n",
      "Epoch 55/300\n",
      "856/856 [==============================] - 0s 403us/step - loss: 0.2779 - accuracy: 0.8668 - val_loss: 0.2726 - val_accuracy: 0.8936\n",
      "Epoch 56/300\n"
     ]
    },
    {
     "name": "stdout",
     "output_type": "stream",
     "text": [
      "856/856 [==============================] - 0s 314us/step - loss: 0.2907 - accuracy: 0.8692 - val_loss: 0.2813 - val_accuracy: 0.9007\n",
      "Epoch 57/300\n",
      "856/856 [==============================] - 0s 336us/step - loss: 0.2861 - accuracy: 0.8657 - val_loss: 0.2782 - val_accuracy: 0.8960\n",
      "Epoch 58/300\n",
      "856/856 [==============================] - 0s 274us/step - loss: 0.2816 - accuracy: 0.8657 - val_loss: 0.2805 - val_accuracy: 0.8936\n",
      "Epoch 59/300\n",
      "856/856 [==============================] - 0s 286us/step - loss: 0.2881 - accuracy: 0.8621 - val_loss: 0.2923 - val_accuracy: 0.8983\n",
      "Epoch 60/300\n",
      "856/856 [==============================] - 0s 233us/step - loss: 0.2812 - accuracy: 0.8680 - val_loss: 0.2831 - val_accuracy: 0.9007\n",
      "Epoch 61/300\n",
      "856/856 [==============================] - 0s 193us/step - loss: 0.2902 - accuracy: 0.8703 - val_loss: 0.2808 - val_accuracy: 0.8960\n",
      "Epoch 62/300\n",
      "856/856 [==============================] - 0s 241us/step - loss: 0.2867 - accuracy: 0.8668 - val_loss: 0.2758 - val_accuracy: 0.8913\n",
      "Epoch 63/300\n",
      "856/856 [==============================] - 0s 260us/step - loss: 0.2650 - accuracy: 0.8750 - val_loss: 0.2727 - val_accuracy: 0.9007\n",
      "Epoch 64/300\n",
      "856/856 [==============================] - 0s 239us/step - loss: 0.2806 - accuracy: 0.8773 - val_loss: 0.2720 - val_accuracy: 0.9031\n",
      "Epoch 65/300\n",
      "856/856 [==============================] - 0s 232us/step - loss: 0.2902 - accuracy: 0.8703 - val_loss: 0.2910 - val_accuracy: 0.8960\n",
      "Epoch 66/300\n",
      "856/856 [==============================] - 0s 211us/step - loss: 0.2901 - accuracy: 0.8727 - val_loss: 0.2853 - val_accuracy: 0.8983\n",
      "Epoch 67/300\n",
      "856/856 [==============================] - 0s 264us/step - loss: 0.2888 - accuracy: 0.8657 - val_loss: 0.2872 - val_accuracy: 0.8983\n",
      "Epoch 68/300\n",
      "856/856 [==============================] - 0s 214us/step - loss: 0.2865 - accuracy: 0.8586 - val_loss: 0.2874 - val_accuracy: 0.8936\n",
      "Epoch 69/300\n",
      "856/856 [==============================] - 0s 273us/step - loss: 0.2827 - accuracy: 0.8633 - val_loss: 0.2802 - val_accuracy: 0.8983\n",
      "Epoch 70/300\n",
      "856/856 [==============================] - 0s 244us/step - loss: 0.2812 - accuracy: 0.8645 - val_loss: 0.2911 - val_accuracy: 0.8842\n",
      "Epoch 71/300\n",
      "856/856 [==============================] - 0s 287us/step - loss: 0.2800 - accuracy: 0.8727 - val_loss: 0.2777 - val_accuracy: 0.9007\n",
      "Epoch 72/300\n",
      "856/856 [==============================] - 0s 242us/step - loss: 0.2771 - accuracy: 0.8668 - val_loss: 0.2739 - val_accuracy: 0.8913\n",
      "Epoch 73/300\n",
      "856/856 [==============================] - 0s 225us/step - loss: 0.2737 - accuracy: 0.8762 - val_loss: 0.2687 - val_accuracy: 0.8983\n",
      "Epoch 74/300\n",
      "856/856 [==============================] - 0s 394us/step - loss: 0.2803 - accuracy: 0.8657 - val_loss: 0.2771 - val_accuracy: 0.8960\n",
      "Epoch 75/300\n",
      "856/856 [==============================] - 0s 384us/step - loss: 0.2771 - accuracy: 0.8727 - val_loss: 0.2737 - val_accuracy: 0.8983\n",
      "Epoch 76/300\n",
      "856/856 [==============================] - 0s 367us/step - loss: 0.2923 - accuracy: 0.8680 - val_loss: 0.2753 - val_accuracy: 0.9007\n",
      "Epoch 77/300\n",
      "856/856 [==============================] - 0s 365us/step - loss: 0.2812 - accuracy: 0.8715 - val_loss: 0.2910 - val_accuracy: 0.8865\n",
      "Epoch 78/300\n",
      "856/856 [==============================] - 0s 209us/step - loss: 0.2892 - accuracy: 0.8715 - val_loss: 0.2781 - val_accuracy: 0.9054\n",
      "Epoch 79/300\n",
      "856/856 [==============================] - 0s 362us/step - loss: 0.2811 - accuracy: 0.8738 - val_loss: 0.2706 - val_accuracy: 0.8842\n",
      "Epoch 80/300\n",
      "856/856 [==============================] - 0s 241us/step - loss: 0.2847 - accuracy: 0.8703 - val_loss: 0.2769 - val_accuracy: 0.9031\n",
      "Epoch 81/300\n",
      "856/856 [==============================] - 0s 205us/step - loss: 0.2790 - accuracy: 0.8715 - val_loss: 0.2856 - val_accuracy: 0.8960\n",
      "Epoch 82/300\n",
      "856/856 [==============================] - 0s 299us/step - loss: 0.2844 - accuracy: 0.8621 - val_loss: 0.2787 - val_accuracy: 0.9054\n",
      "Epoch 83/300\n",
      "856/856 [==============================] - 0s 214us/step - loss: 0.2817 - accuracy: 0.8621 - val_loss: 0.2890 - val_accuracy: 0.8983\n",
      "Epoch 84/300\n",
      "856/856 [==============================] - 0s 267us/step - loss: 0.2817 - accuracy: 0.8645 - val_loss: 0.2813 - val_accuracy: 0.8913\n",
      "Epoch 85/300\n",
      "856/856 [==============================] - 0s 283us/step - loss: 0.2774 - accuracy: 0.8633 - val_loss: 0.2878 - val_accuracy: 0.8983\n",
      "Epoch 86/300\n",
      "856/856 [==============================] - 0s 260us/step - loss: 0.2792 - accuracy: 0.8785 - val_loss: 0.2870 - val_accuracy: 0.8960\n",
      "Epoch 87/300\n",
      "856/856 [==============================] - 0s 224us/step - loss: 0.2685 - accuracy: 0.8715 - val_loss: 0.2721 - val_accuracy: 0.8936\n",
      "Epoch 88/300\n",
      "856/856 [==============================] - 0s 199us/step - loss: 0.2782 - accuracy: 0.8668 - val_loss: 0.2767 - val_accuracy: 0.8936\n",
      "Epoch 89/300\n",
      "856/856 [==============================] - 0s 276us/step - loss: 0.2898 - accuracy: 0.8610 - val_loss: 0.2854 - val_accuracy: 0.8960\n",
      "Epoch 90/300\n",
      "856/856 [==============================] - 0s 258us/step - loss: 0.2806 - accuracy: 0.8773 - val_loss: 0.2931 - val_accuracy: 0.8913\n",
      "Epoch 91/300\n",
      "856/856 [==============================] - 0s 254us/step - loss: 0.2827 - accuracy: 0.8645 - val_loss: 0.2802 - val_accuracy: 0.9031\n",
      "Epoch 92/300\n",
      "856/856 [==============================] - 0s 221us/step - loss: 0.2834 - accuracy: 0.8633 - val_loss: 0.2819 - val_accuracy: 0.9031\n",
      "Epoch 93/300\n",
      "856/856 [==============================] - 0s 228us/step - loss: 0.2831 - accuracy: 0.8715 - val_loss: 0.2832 - val_accuracy: 0.9007\n",
      "Epoch 94/300\n",
      "856/856 [==============================] - 0s 214us/step - loss: 0.2723 - accuracy: 0.8668 - val_loss: 0.2781 - val_accuracy: 0.8960\n",
      "Epoch 95/300\n",
      "856/856 [==============================] - 0s 397us/step - loss: 0.2980 - accuracy: 0.8645 - val_loss: 0.2881 - val_accuracy: 0.8960\n",
      "Epoch 96/300\n",
      "856/856 [==============================] - 0s 232us/step - loss: 0.2871 - accuracy: 0.8727 - val_loss: 0.2835 - val_accuracy: 0.8983\n",
      "Epoch 97/300\n",
      "856/856 [==============================] - 0s 237us/step - loss: 0.2886 - accuracy: 0.8668 - val_loss: 0.2889 - val_accuracy: 0.8960\n",
      "Epoch 98/300\n",
      "856/856 [==============================] - 0s 312us/step - loss: 0.2840 - accuracy: 0.8645 - val_loss: 0.2869 - val_accuracy: 0.8983\n",
      "Epoch 99/300\n",
      "856/856 [==============================] - 0s 395us/step - loss: 0.2843 - accuracy: 0.8727 - val_loss: 0.2844 - val_accuracy: 0.9007\n",
      "Epoch 100/300\n",
      "856/856 [==============================] - 0s 367us/step - loss: 0.2860 - accuracy: 0.8785 - val_loss: 0.2759 - val_accuracy: 0.8913\n",
      "Epoch 101/300\n",
      "856/856 [==============================] - 0s 334us/step - loss: 0.2844 - accuracy: 0.8668 - val_loss: 0.2816 - val_accuracy: 0.8983\n",
      "Epoch 102/300\n",
      "856/856 [==============================] - 0s 318us/step - loss: 0.2783 - accuracy: 0.8703 - val_loss: 0.2829 - val_accuracy: 0.8960\n",
      "Epoch 103/300\n",
      "856/856 [==============================] - 0s 313us/step - loss: 0.2769 - accuracy: 0.8692 - val_loss: 0.2768 - val_accuracy: 0.8983\n",
      "Epoch 104/300\n",
      "856/856 [==============================] - 0s 247us/step - loss: 0.2789 - accuracy: 0.8703 - val_loss: 0.2809 - val_accuracy: 0.8936\n",
      "Epoch 105/300\n",
      "856/856 [==============================] - 0s 306us/step - loss: 0.2784 - accuracy: 0.8785 - val_loss: 0.2794 - val_accuracy: 0.9007\n",
      "Epoch 106/300\n",
      "856/856 [==============================] - 0s 270us/step - loss: 0.2851 - accuracy: 0.8621 - val_loss: 0.2846 - val_accuracy: 0.8960\n",
      "Epoch 107/300\n",
      "856/856 [==============================] - 0s 356us/step - loss: 0.2748 - accuracy: 0.8750 - val_loss: 0.2759 - val_accuracy: 0.9007\n",
      "Epoch 108/300\n",
      "856/856 [==============================] - 0s 266us/step - loss: 0.2820 - accuracy: 0.8657 - val_loss: 0.2957 - val_accuracy: 0.8889\n",
      "Epoch 109/300\n",
      "856/856 [==============================] - 0s 303us/step - loss: 0.2832 - accuracy: 0.8715 - val_loss: 0.2919 - val_accuracy: 0.8889\n",
      "Epoch 110/300\n",
      "856/856 [==============================] - 0s 238us/step - loss: 0.2812 - accuracy: 0.8657 - val_loss: 0.2886 - val_accuracy: 0.8983\n",
      "Epoch 111/300\n",
      "856/856 [==============================] - 0s 276us/step - loss: 0.2789 - accuracy: 0.8680 - val_loss: 0.2815 - val_accuracy: 0.9007\n",
      "Epoch 112/300\n"
     ]
    },
    {
     "name": "stdout",
     "output_type": "stream",
     "text": [
      "856/856 [==============================] - 0s 275us/step - loss: 0.2823 - accuracy: 0.8715 - val_loss: 0.2824 - val_accuracy: 0.9007\n",
      "Epoch 113/300\n",
      "856/856 [==============================] - 0s 221us/step - loss: 0.2830 - accuracy: 0.8668 - val_loss: 0.2773 - val_accuracy: 0.8913\n",
      "Epoch 114/300\n",
      "856/856 [==============================] - 0s 223us/step - loss: 0.2815 - accuracy: 0.8703 - val_loss: 0.2914 - val_accuracy: 0.8960\n",
      "Epoch 115/300\n",
      "856/856 [==============================] - 0s 328us/step - loss: 0.2809 - accuracy: 0.8610 - val_loss: 0.2829 - val_accuracy: 0.9007\n",
      "Epoch 116/300\n",
      "856/856 [==============================] - 0s 212us/step - loss: 0.2780 - accuracy: 0.8715 - val_loss: 0.2857 - val_accuracy: 0.8960\n",
      "Epoch 117/300\n",
      "856/856 [==============================] - 0s 329us/step - loss: 0.2794 - accuracy: 0.8715 - val_loss: 0.2837 - val_accuracy: 0.8936\n",
      "Epoch 118/300\n",
      "856/856 [==============================] - 0s 223us/step - loss: 0.2892 - accuracy: 0.8715 - val_loss: 0.2907 - val_accuracy: 0.8960\n",
      "Epoch 119/300\n",
      "856/856 [==============================] - 0s 273us/step - loss: 0.2789 - accuracy: 0.8692 - val_loss: 0.2935 - val_accuracy: 0.8889\n",
      "Epoch 120/300\n",
      "856/856 [==============================] - 0s 241us/step - loss: 0.2813 - accuracy: 0.8715 - val_loss: 0.2818 - val_accuracy: 0.8960\n",
      "Epoch 121/300\n",
      "856/856 [==============================] - 0s 306us/step - loss: 0.2901 - accuracy: 0.8668 - val_loss: 0.2866 - val_accuracy: 0.8960\n",
      "Epoch 122/300\n",
      "856/856 [==============================] - 0s 346us/step - loss: 0.2734 - accuracy: 0.8621 - val_loss: 0.2863 - val_accuracy: 0.8936\n",
      "Epoch 123/300\n",
      "856/856 [==============================] - 0s 446us/step - loss: 0.2745 - accuracy: 0.8738 - val_loss: 0.2839 - val_accuracy: 0.8936\n",
      "Epoch 124/300\n",
      "856/856 [==============================] - 0s 350us/step - loss: 0.2846 - accuracy: 0.8750 - val_loss: 0.2921 - val_accuracy: 0.9007\n",
      "Epoch 125/300\n",
      "856/856 [==============================] - 0s 336us/step - loss: 0.2784 - accuracy: 0.8563 - val_loss: 0.2840 - val_accuracy: 0.8960\n",
      "Epoch 126/300\n",
      "856/856 [==============================] - 0s 244us/step - loss: 0.2798 - accuracy: 0.8645 - val_loss: 0.2712 - val_accuracy: 0.8865\n",
      "Epoch 127/300\n",
      "856/856 [==============================] - 0s 273us/step - loss: 0.2791 - accuracy: 0.8633 - val_loss: 0.2805 - val_accuracy: 0.9007\n",
      "Epoch 128/300\n",
      "856/856 [==============================] - 0s 255us/step - loss: 0.2794 - accuracy: 0.8762 - val_loss: 0.2866 - val_accuracy: 0.8983\n",
      "Epoch 129/300\n",
      "856/856 [==============================] - 0s 270us/step - loss: 0.2710 - accuracy: 0.8668 - val_loss: 0.2825 - val_accuracy: 0.8936\n",
      "Epoch 130/300\n",
      "856/856 [==============================] - 0s 279us/step - loss: 0.2827 - accuracy: 0.8692 - val_loss: 0.2797 - val_accuracy: 0.8960\n",
      "Epoch 131/300\n",
      "856/856 [==============================] - 0s 215us/step - loss: 0.2797 - accuracy: 0.8738 - val_loss: 0.2878 - val_accuracy: 0.8983\n",
      "Epoch 132/300\n",
      "856/856 [==============================] - 0s 288us/step - loss: 0.2836 - accuracy: 0.8563 - val_loss: 0.2863 - val_accuracy: 0.9007\n",
      "Epoch 133/300\n",
      "856/856 [==============================] - 0s 290us/step - loss: 0.2758 - accuracy: 0.8657 - val_loss: 0.2881 - val_accuracy: 0.8913\n",
      "Epoch 134/300\n",
      "856/856 [==============================] - 0s 243us/step - loss: 0.2781 - accuracy: 0.8692 - val_loss: 0.2849 - val_accuracy: 0.8936\n",
      "Epoch 135/300\n",
      "856/856 [==============================] - 0s 270us/step - loss: 0.2770 - accuracy: 0.8703 - val_loss: 0.2852 - val_accuracy: 0.8983\n",
      "Epoch 136/300\n",
      "856/856 [==============================] - 0s 285us/step - loss: 0.2734 - accuracy: 0.8715 - val_loss: 0.2829 - val_accuracy: 0.9007\n",
      "Epoch 137/300\n",
      "856/856 [==============================] - 0s 295us/step - loss: 0.2746 - accuracy: 0.8738 - val_loss: 0.2876 - val_accuracy: 0.8913\n",
      "Epoch 138/300\n",
      "856/856 [==============================] - 0s 504us/step - loss: 0.2732 - accuracy: 0.8750 - val_loss: 0.2839 - val_accuracy: 0.8936\n",
      "Epoch 139/300\n",
      "856/856 [==============================] - 0s 361us/step - loss: 0.2749 - accuracy: 0.8738 - val_loss: 0.2863 - val_accuracy: 0.8960\n",
      "Epoch 140/300\n",
      "856/856 [==============================] - 0s 313us/step - loss: 0.2758 - accuracy: 0.8750 - val_loss: 0.2945 - val_accuracy: 0.8913\n",
      "Epoch 141/300\n",
      "856/856 [==============================] - 0s 312us/step - loss: 0.2717 - accuracy: 0.8738 - val_loss: 0.2902 - val_accuracy: 0.8913\n",
      "Epoch 142/300\n",
      "856/856 [==============================] - 0s 356us/step - loss: 0.2729 - accuracy: 0.8680 - val_loss: 0.2797 - val_accuracy: 0.8960\n",
      "Epoch 143/300\n",
      "856/856 [==============================] - 0s 344us/step - loss: 0.2778 - accuracy: 0.8727 - val_loss: 0.2779 - val_accuracy: 0.8983\n",
      "Epoch 144/300\n",
      "856/856 [==============================] - 0s 370us/step - loss: 0.2832 - accuracy: 0.8692 - val_loss: 0.2826 - val_accuracy: 0.8983\n",
      "Epoch 145/300\n",
      "856/856 [==============================] - 0s 382us/step - loss: 0.2758 - accuracy: 0.8762 - val_loss: 0.2845 - val_accuracy: 0.9007\n",
      "Epoch 146/300\n",
      "856/856 [==============================] - 0s 372us/step - loss: 0.2795 - accuracy: 0.8703 - val_loss: 0.2897 - val_accuracy: 0.8889\n",
      "Epoch 147/300\n",
      "856/856 [==============================] - 0s 242us/step - loss: 0.2805 - accuracy: 0.8703 - val_loss: 0.2806 - val_accuracy: 0.8983\n",
      "Epoch 148/300\n",
      "856/856 [==============================] - 0s 301us/step - loss: 0.2800 - accuracy: 0.8785 - val_loss: 0.2811 - val_accuracy: 0.9007\n",
      "Epoch 149/300\n",
      "856/856 [==============================] - 0s 237us/step - loss: 0.2798 - accuracy: 0.8785 - val_loss: 0.2851 - val_accuracy: 0.8960\n",
      "Epoch 150/300\n",
      "856/856 [==============================] - 0s 233us/step - loss: 0.2753 - accuracy: 0.8715 - val_loss: 0.2782 - val_accuracy: 0.8983\n",
      "Epoch 151/300\n",
      "856/856 [==============================] - 0s 265us/step - loss: 0.2787 - accuracy: 0.8657 - val_loss: 0.2892 - val_accuracy: 0.8960\n",
      "Epoch 152/300\n",
      "856/856 [==============================] - 0s 255us/step - loss: 0.2837 - accuracy: 0.8657 - val_loss: 0.2931 - val_accuracy: 0.8960\n",
      "Epoch 153/300\n",
      "856/856 [==============================] - 0s 237us/step - loss: 0.2673 - accuracy: 0.8703 - val_loss: 0.2848 - val_accuracy: 0.8936\n",
      "Epoch 154/300\n",
      "856/856 [==============================] - 0s 214us/step - loss: 0.2887 - accuracy: 0.8645 - val_loss: 0.2965 - val_accuracy: 0.8936\n",
      "Epoch 155/300\n",
      "856/856 [==============================] - 0s 275us/step - loss: 0.2835 - accuracy: 0.8633 - val_loss: 0.2967 - val_accuracy: 0.8960\n",
      "Epoch 156/300\n",
      "856/856 [==============================] - 0s 246us/step - loss: 0.2878 - accuracy: 0.8657 - val_loss: 0.2831 - val_accuracy: 0.8913\n",
      "Epoch 157/300\n",
      "856/856 [==============================] - 0s 272us/step - loss: 0.2756 - accuracy: 0.8645 - val_loss: 0.2891 - val_accuracy: 0.8960\n",
      "Epoch 158/300\n",
      "856/856 [==============================] - 0s 247us/step - loss: 0.2860 - accuracy: 0.8657 - val_loss: 0.2951 - val_accuracy: 0.9007\n",
      "Epoch 159/300\n",
      "856/856 [==============================] - 0s 290us/step - loss: 0.2840 - accuracy: 0.8703 - val_loss: 0.2933 - val_accuracy: 0.9031\n",
      "Epoch 160/300\n",
      "856/856 [==============================] - 0s 270us/step - loss: 0.2802 - accuracy: 0.8703 - val_loss: 0.2914 - val_accuracy: 0.9007\n",
      "Epoch 161/300\n",
      "856/856 [==============================] - 0s 246us/step - loss: 0.2737 - accuracy: 0.8797 - val_loss: 0.2936 - val_accuracy: 0.9007\n",
      "Epoch 162/300\n",
      "856/856 [==============================] - 0s 222us/step - loss: 0.2888 - accuracy: 0.8715 - val_loss: 0.3039 - val_accuracy: 0.8983\n",
      "Epoch 163/300\n",
      "856/856 [==============================] - 0s 297us/step - loss: 0.2756 - accuracy: 0.8703 - val_loss: 0.2855 - val_accuracy: 0.8983\n",
      "Epoch 164/300\n",
      "856/856 [==============================] - 0s 333us/step - loss: 0.2744 - accuracy: 0.8657 - val_loss: 0.2925 - val_accuracy: 0.8983\n",
      "Epoch 165/300\n",
      "856/856 [==============================] - 0s 205us/step - loss: 0.2697 - accuracy: 0.8727 - val_loss: 0.2873 - val_accuracy: 0.9007\n",
      "Epoch 166/300\n",
      "856/856 [==============================] - 0s 355us/step - loss: 0.2794 - accuracy: 0.8738 - val_loss: 0.2941 - val_accuracy: 0.9007\n",
      "Epoch 167/300\n"
     ]
    },
    {
     "name": "stdout",
     "output_type": "stream",
     "text": [
      "856/856 [==============================] - 0s 290us/step - loss: 0.2703 - accuracy: 0.8808 - val_loss: 0.2810 - val_accuracy: 0.9007\n",
      "Epoch 168/300\n",
      "856/856 [==============================] - 0s 407us/step - loss: 0.2836 - accuracy: 0.8738 - val_loss: 0.3008 - val_accuracy: 0.8983\n",
      "Epoch 169/300\n",
      "856/856 [==============================] - ETA: 0s - loss: 0.2802 - accuracy: 0.87 - 0s 406us/step - loss: 0.2826 - accuracy: 0.8703 - val_loss: 0.2956 - val_accuracy: 0.9007\n",
      "Epoch 170/300\n",
      "856/856 [==============================] - 0s 451us/step - loss: 0.2769 - accuracy: 0.8703 - val_loss: 0.2948 - val_accuracy: 0.8960\n",
      "Epoch 171/300\n",
      "856/856 [==============================] - 0s 332us/step - loss: 0.2646 - accuracy: 0.8727 - val_loss: 0.2790 - val_accuracy: 0.8936\n",
      "Epoch 172/300\n",
      "856/856 [==============================] - 0s 365us/step - loss: 0.2722 - accuracy: 0.8715 - val_loss: 0.2829 - val_accuracy: 0.8865\n",
      "Epoch 173/300\n",
      "856/856 [==============================] - 0s 253us/step - loss: 0.2731 - accuracy: 0.8692 - val_loss: 0.2759 - val_accuracy: 0.9007\n",
      "Epoch 174/300\n",
      "856/856 [==============================] - 0s 291us/step - loss: 0.2874 - accuracy: 0.8610 - val_loss: 0.2789 - val_accuracy: 0.9007\n",
      "Epoch 175/300\n",
      "856/856 [==============================] - 0s 484us/step - loss: 0.2799 - accuracy: 0.8727 - val_loss: 0.2869 - val_accuracy: 0.8913\n",
      "Epoch 176/300\n",
      "856/856 [==============================] - 0s 323us/step - loss: 0.2816 - accuracy: 0.8762 - val_loss: 0.2797 - val_accuracy: 0.9054\n",
      "Epoch 177/300\n",
      "856/856 [==============================] - 0s 319us/step - loss: 0.2762 - accuracy: 0.8680 - val_loss: 0.2894 - val_accuracy: 0.8913\n",
      "Epoch 178/300\n",
      "856/856 [==============================] - 0s 276us/step - loss: 0.2722 - accuracy: 0.8773 - val_loss: 0.2723 - val_accuracy: 0.8960\n",
      "Epoch 179/300\n",
      "856/856 [==============================] - 0s 304us/step - loss: 0.2796 - accuracy: 0.8715 - val_loss: 0.2797 - val_accuracy: 0.9007\n",
      "Epoch 180/300\n",
      "856/856 [==============================] - 0s 295us/step - loss: 0.2759 - accuracy: 0.8797 - val_loss: 0.2866 - val_accuracy: 0.8936\n",
      "Epoch 181/300\n",
      "856/856 [==============================] - 0s 276us/step - loss: 0.2701 - accuracy: 0.8750 - val_loss: 0.2821 - val_accuracy: 0.8936\n",
      "Epoch 182/300\n",
      "856/856 [==============================] - 0s 257us/step - loss: 0.2864 - accuracy: 0.8692 - val_loss: 0.2856 - val_accuracy: 0.8960\n",
      "Epoch 183/300\n",
      "856/856 [==============================] - 0s 382us/step - loss: 0.2881 - accuracy: 0.8621 - val_loss: 0.2835 - val_accuracy: 0.9007\n",
      "Epoch 184/300\n",
      "856/856 [==============================] - 0s 252us/step - loss: 0.2786 - accuracy: 0.8668 - val_loss: 0.2880 - val_accuracy: 0.8983\n",
      "Epoch 185/300\n",
      "856/856 [==============================] - 0s 331us/step - loss: 0.2791 - accuracy: 0.8750 - val_loss: 0.2915 - val_accuracy: 0.8960\n",
      "Epoch 186/300\n",
      "856/856 [==============================] - 0s 265us/step - loss: 0.2727 - accuracy: 0.8727 - val_loss: 0.2782 - val_accuracy: 0.8983\n",
      "Epoch 187/300\n",
      "856/856 [==============================] - 0s 291us/step - loss: 0.2850 - accuracy: 0.8692 - val_loss: 0.3017 - val_accuracy: 0.8936\n",
      "Epoch 188/300\n",
      "856/856 [==============================] - 0s 322us/step - loss: 0.2838 - accuracy: 0.8738 - val_loss: 0.2879 - val_accuracy: 0.8960\n",
      "Epoch 189/300\n",
      "856/856 [==============================] - 0s 287us/step - loss: 0.2712 - accuracy: 0.8727 - val_loss: 0.2974 - val_accuracy: 0.8936\n",
      "Epoch 190/300\n",
      "856/856 [==============================] - 0s 469us/step - loss: 0.2900 - accuracy: 0.8727 - val_loss: 0.2904 - val_accuracy: 0.9007\n",
      "Epoch 191/300\n",
      "856/856 [==============================] - 0s 399us/step - loss: 0.2694 - accuracy: 0.8785 - val_loss: 0.2806 - val_accuracy: 0.9007\n",
      "Epoch 192/300\n",
      "856/856 [==============================] - 0s 445us/step - loss: 0.2744 - accuracy: 0.8657 - val_loss: 0.2856 - val_accuracy: 0.8983\n",
      "Epoch 193/300\n",
      "856/856 [==============================] - 0s 328us/step - loss: 0.2757 - accuracy: 0.8657 - val_loss: 0.2923 - val_accuracy: 0.8983\n",
      "Epoch 194/300\n",
      "856/856 [==============================] - 0s 302us/step - loss: 0.2826 - accuracy: 0.8645 - val_loss: 0.2981 - val_accuracy: 0.8936\n",
      "Epoch 195/300\n",
      "856/856 [==============================] - 0s 247us/step - loss: 0.2729 - accuracy: 0.8692 - val_loss: 0.2904 - val_accuracy: 0.8983\n",
      "Epoch 196/300\n",
      "856/856 [==============================] - 0s 311us/step - loss: 0.2780 - accuracy: 0.8738 - val_loss: 0.2945 - val_accuracy: 0.8960\n",
      "Epoch 197/300\n",
      "856/856 [==============================] - 0s 242us/step - loss: 0.2758 - accuracy: 0.8610 - val_loss: 0.3037 - val_accuracy: 0.8983\n",
      "Epoch 198/300\n",
      "856/856 [==============================] - 0s 212us/step - loss: 0.2835 - accuracy: 0.8633 - val_loss: 0.3002 - val_accuracy: 0.8983\n",
      "Epoch 199/300\n",
      "856/856 [==============================] - 0s 389us/step - loss: 0.2696 - accuracy: 0.8843 - val_loss: 0.2877 - val_accuracy: 0.8983\n",
      "Epoch 200/300\n",
      "856/856 [==============================] - 0s 200us/step - loss: 0.2795 - accuracy: 0.8808 - val_loss: 0.3037 - val_accuracy: 0.8936\n",
      "Epoch 201/300\n",
      "856/856 [==============================] - 0s 361us/step - loss: 0.2726 - accuracy: 0.8750 - val_loss: 0.2941 - val_accuracy: 0.8936\n",
      "Epoch 202/300\n",
      "856/856 [==============================] - 0s 209us/step - loss: 0.2750 - accuracy: 0.8692 - val_loss: 0.2921 - val_accuracy: 0.8960\n",
      "Epoch 203/300\n",
      "856/856 [==============================] - 0s 260us/step - loss: 0.2785 - accuracy: 0.8633 - val_loss: 0.2900 - val_accuracy: 0.9007\n",
      "Epoch 204/300\n",
      "856/856 [==============================] - 0s 288us/step - loss: 0.2868 - accuracy: 0.8563 - val_loss: 0.2999 - val_accuracy: 0.8936\n",
      "Epoch 205/300\n",
      "856/856 [==============================] - 0s 269us/step - loss: 0.2847 - accuracy: 0.8680 - val_loss: 0.2902 - val_accuracy: 0.8960\n",
      "Epoch 206/300\n",
      "856/856 [==============================] - 0s 287us/step - loss: 0.2745 - accuracy: 0.8797 - val_loss: 0.2963 - val_accuracy: 0.8913\n",
      "Epoch 207/300\n",
      "856/856 [==============================] - 0s 306us/step - loss: 0.2800 - accuracy: 0.8610 - val_loss: 0.2889 - val_accuracy: 0.8913\n",
      "Epoch 208/300\n",
      "856/856 [==============================] - 0s 270us/step - loss: 0.2702 - accuracy: 0.8797 - val_loss: 0.2811 - val_accuracy: 0.8936\n",
      "Epoch 209/300\n",
      "856/856 [==============================] - 0s 286us/step - loss: 0.2748 - accuracy: 0.8645 - val_loss: 0.2850 - val_accuracy: 0.8983\n",
      "Epoch 210/300\n",
      "856/856 [==============================] - 0s 266us/step - loss: 0.2857 - accuracy: 0.8680 - val_loss: 0.2788 - val_accuracy: 0.9007\n",
      "Epoch 211/300\n",
      "856/856 [==============================] - ETA: 0s - loss: 0.2741 - accuracy: 0.87 - 0s 285us/step - loss: 0.2815 - accuracy: 0.8773 - val_loss: 0.2953 - val_accuracy: 0.8960\n",
      "Epoch 212/300\n",
      "856/856 [==============================] - 0s 272us/step - loss: 0.2770 - accuracy: 0.8773 - val_loss: 0.2932 - val_accuracy: 0.9007\n",
      "Epoch 213/300\n",
      "856/856 [==============================] - 0s 350us/step - loss: 0.2775 - accuracy: 0.8621 - val_loss: 0.3006 - val_accuracy: 0.8723\n",
      "Epoch 214/300\n",
      "856/856 [==============================] - 0s 378us/step - loss: 0.2770 - accuracy: 0.8808 - val_loss: 0.2884 - val_accuracy: 0.8983\n",
      "Epoch 215/300\n",
      "856/856 [==============================] - 0s 388us/step - loss: 0.2803 - accuracy: 0.8657 - val_loss: 0.2848 - val_accuracy: 0.8960\n",
      "Epoch 216/300\n",
      "856/856 [==============================] - 0s 348us/step - loss: 0.2709 - accuracy: 0.8808 - val_loss: 0.2827 - val_accuracy: 0.8960\n",
      "Epoch 217/300\n",
      "856/856 [==============================] - 0s 252us/step - loss: 0.2705 - accuracy: 0.8762 - val_loss: 0.2871 - val_accuracy: 0.8983\n",
      "Epoch 218/300\n",
      "856/856 [==============================] - 0s 232us/step - loss: 0.2749 - accuracy: 0.8750 - val_loss: 0.2855 - val_accuracy: 0.8936\n",
      "Epoch 219/300\n",
      "856/856 [==============================] - 0s 207us/step - loss: 0.2731 - accuracy: 0.8762 - val_loss: 0.2925 - val_accuracy: 0.8960\n",
      "Epoch 220/300\n",
      "856/856 [==============================] - 0s 254us/step - loss: 0.2662 - accuracy: 0.8832 - val_loss: 0.2835 - val_accuracy: 0.9007\n",
      "Epoch 221/300\n",
      "856/856 [==============================] - ETA: 0s - loss: 0.2786 - accuracy: 0.86 - 0s 271us/step - loss: 0.2759 - accuracy: 0.8668 - val_loss: 0.2851 - val_accuracy: 0.9007\n"
     ]
    },
    {
     "name": "stdout",
     "output_type": "stream",
     "text": [
      "Epoch 222/300\n",
      "856/856 [==============================] - 0s 305us/step - loss: 0.2713 - accuracy: 0.8762 - val_loss: 0.2784 - val_accuracy: 0.9007\n",
      "Epoch 223/300\n",
      "856/856 [==============================] - 0s 249us/step - loss: 0.2746 - accuracy: 0.8680 - val_loss: 0.2855 - val_accuracy: 0.9031\n",
      "Epoch 224/300\n",
      "856/856 [==============================] - 0s 257us/step - loss: 0.2803 - accuracy: 0.8633 - val_loss: 0.2919 - val_accuracy: 0.9007\n",
      "Epoch 225/300\n",
      "856/856 [==============================] - 0s 261us/step - loss: 0.2851 - accuracy: 0.8668 - val_loss: 0.2938 - val_accuracy: 0.8983\n",
      "Epoch 226/300\n",
      "856/856 [==============================] - 0s 244us/step - loss: 0.2803 - accuracy: 0.8738 - val_loss: 0.2891 - val_accuracy: 0.8960\n",
      "Epoch 227/300\n",
      "856/856 [==============================] - 0s 287us/step - loss: 0.2655 - accuracy: 0.8715 - val_loss: 0.2842 - val_accuracy: 0.8983\n",
      "Epoch 228/300\n",
      "856/856 [==============================] - 0s 219us/step - loss: 0.2747 - accuracy: 0.8773 - val_loss: 0.2807 - val_accuracy: 0.8936\n",
      "Epoch 229/300\n",
      "856/856 [==============================] - 0s 241us/step - loss: 0.2839 - accuracy: 0.8657 - val_loss: 0.2905 - val_accuracy: 0.8983\n",
      "Epoch 230/300\n",
      "856/856 [==============================] - 0s 275us/step - loss: 0.2800 - accuracy: 0.8750 - val_loss: 0.2860 - val_accuracy: 0.8960\n",
      "Epoch 231/300\n",
      "856/856 [==============================] - 0s 271us/step - loss: 0.2723 - accuracy: 0.8657 - val_loss: 0.2844 - val_accuracy: 0.9007\n",
      "Epoch 232/300\n",
      "856/856 [==============================] - 0s 227us/step - loss: 0.2775 - accuracy: 0.8727 - val_loss: 0.2826 - val_accuracy: 0.9007\n",
      "Epoch 233/300\n",
      "856/856 [==============================] - 0s 290us/step - loss: 0.2791 - accuracy: 0.8785 - val_loss: 0.2928 - val_accuracy: 0.9007\n",
      "Epoch 234/300\n",
      "856/856 [==============================] - 0s 274us/step - loss: 0.2853 - accuracy: 0.8750 - val_loss: 0.2927 - val_accuracy: 0.8913\n",
      "Epoch 235/300\n",
      "856/856 [==============================] - 0s 250us/step - loss: 0.2709 - accuracy: 0.8715 - val_loss: 0.2845 - val_accuracy: 0.9007\n",
      "Epoch 236/300\n",
      "856/856 [==============================] - 0s 256us/step - loss: 0.2793 - accuracy: 0.8715 - val_loss: 0.2869 - val_accuracy: 0.8889\n",
      "Epoch 237/300\n",
      "856/856 [==============================] - 0s 239us/step - loss: 0.2765 - accuracy: 0.8680 - val_loss: 0.2897 - val_accuracy: 0.9007\n",
      "Epoch 238/300\n",
      "856/856 [==============================] - 0s 426us/step - loss: 0.2785 - accuracy: 0.8808 - val_loss: 0.2828 - val_accuracy: 0.9031\n",
      "Epoch 239/300\n",
      "856/856 [==============================] - 0s 386us/step - loss: 0.2833 - accuracy: 0.8668 - val_loss: 0.2890 - val_accuracy: 0.8960\n",
      "Epoch 240/300\n",
      "856/856 [==============================] - 0s 386us/step - loss: 0.2737 - accuracy: 0.8797 - val_loss: 0.2805 - val_accuracy: 0.8936\n",
      "Epoch 241/300\n",
      "856/856 [==============================] - 0s 320us/step - loss: 0.2736 - accuracy: 0.8750 - val_loss: 0.2765 - val_accuracy: 0.8983\n",
      "Epoch 242/300\n",
      "856/856 [==============================] - 0s 269us/step - loss: 0.2750 - accuracy: 0.8843 - val_loss: 0.2776 - val_accuracy: 0.9031\n",
      "Epoch 243/300\n",
      "856/856 [==============================] - 0s 215us/step - loss: 0.2753 - accuracy: 0.8668 - val_loss: 0.2755 - val_accuracy: 0.8983\n",
      "Epoch 244/300\n",
      "856/856 [==============================] - 0s 238us/step - loss: 0.2794 - accuracy: 0.8750 - val_loss: 0.2845 - val_accuracy: 0.9007\n",
      "Epoch 245/300\n",
      "856/856 [==============================] - 0s 314us/step - loss: 0.2780 - accuracy: 0.8680 - val_loss: 0.2931 - val_accuracy: 0.9031\n",
      "Epoch 246/300\n",
      "856/856 [==============================] - 0s 264us/step - loss: 0.2769 - accuracy: 0.8785 - val_loss: 0.2847 - val_accuracy: 0.8983\n",
      "Epoch 247/300\n",
      "856/856 [==============================] - 0s 251us/step - loss: 0.2700 - accuracy: 0.8715 - val_loss: 0.2812 - val_accuracy: 0.9007\n",
      "Epoch 248/300\n",
      "856/856 [==============================] - 0s 266us/step - loss: 0.2734 - accuracy: 0.8820 - val_loss: 0.2756 - val_accuracy: 0.9007\n",
      "Epoch 249/300\n",
      "856/856 [==============================] - ETA: 0s - loss: 0.2854 - accuracy: 0.86 - 0s 279us/step - loss: 0.2773 - accuracy: 0.8680 - val_loss: 0.2752 - val_accuracy: 0.8983\n",
      "Epoch 250/300\n",
      "856/856 [==============================] - 0s 221us/step - loss: 0.2768 - accuracy: 0.8750 - val_loss: 0.2940 - val_accuracy: 0.8960\n",
      "Epoch 251/300\n",
      "856/856 [==============================] - 0s 255us/step - loss: 0.2814 - accuracy: 0.8715 - val_loss: 0.2779 - val_accuracy: 0.8936\n",
      "Epoch 252/300\n",
      "856/856 [==============================] - 0s 221us/step - loss: 0.2786 - accuracy: 0.8692 - val_loss: 0.2879 - val_accuracy: 0.8936\n",
      "Epoch 253/300\n",
      "856/856 [==============================] - 0s 249us/step - loss: 0.2638 - accuracy: 0.8773 - val_loss: 0.2794 - val_accuracy: 0.8983\n",
      "Epoch 254/300\n",
      "856/856 [==============================] - 0s 227us/step - loss: 0.2733 - accuracy: 0.8750 - val_loss: 0.2829 - val_accuracy: 0.8983\n",
      "Epoch 255/300\n",
      "856/856 [==============================] - 0s 222us/step - loss: 0.2795 - accuracy: 0.8645 - val_loss: 0.2857 - val_accuracy: 0.8936\n",
      "Epoch 256/300\n",
      "856/856 [==============================] - 0s 244us/step - loss: 0.2717 - accuracy: 0.8668 - val_loss: 0.2751 - val_accuracy: 0.9031\n",
      "Epoch 257/300\n",
      "856/856 [==============================] - 0s 245us/step - loss: 0.2779 - accuracy: 0.8633 - val_loss: 0.2802 - val_accuracy: 0.9007\n",
      "Epoch 258/300\n",
      "856/856 [==============================] - 0s 207us/step - loss: 0.2766 - accuracy: 0.8645 - val_loss: 0.2949 - val_accuracy: 0.9007\n",
      "Epoch 259/300\n",
      "856/856 [==============================] - ETA: 0s - loss: 0.2780 - accuracy: 0.87 - 0s 205us/step - loss: 0.2799 - accuracy: 0.8727 - val_loss: 0.2853 - val_accuracy: 0.9031\n",
      "Epoch 260/300\n",
      "856/856 [==============================] - 0s 234us/step - loss: 0.2725 - accuracy: 0.8762 - val_loss: 0.2770 - val_accuracy: 0.8983\n",
      "Epoch 261/300\n",
      "856/856 [==============================] - 0s 256us/step - loss: 0.2717 - accuracy: 0.8797 - val_loss: 0.2751 - val_accuracy: 0.9007\n",
      "Epoch 262/300\n",
      "856/856 [==============================] - 0s 214us/step - loss: 0.2795 - accuracy: 0.8657 - val_loss: 0.2833 - val_accuracy: 0.8983\n",
      "Epoch 263/300\n",
      "856/856 [==============================] - 0s 256us/step - loss: 0.2707 - accuracy: 0.8692 - val_loss: 0.2877 - val_accuracy: 0.8889\n",
      "Epoch 264/300\n",
      "856/856 [==============================] - 0s 327us/step - loss: 0.2738 - accuracy: 0.8750 - val_loss: 0.2920 - val_accuracy: 0.8889\n",
      "Epoch 265/300\n",
      "856/856 [==============================] - 0s 330us/step - loss: 0.2699 - accuracy: 0.8785 - val_loss: 0.2856 - val_accuracy: 0.8983\n",
      "Epoch 266/300\n",
      "856/856 [==============================] - 0s 357us/step - loss: 0.2744 - accuracy: 0.8785 - val_loss: 0.2938 - val_accuracy: 0.8936\n",
      "Epoch 267/300\n",
      "856/856 [==============================] - 0s 352us/step - loss: 0.2771 - accuracy: 0.8738 - val_loss: 0.2884 - val_accuracy: 0.8960\n",
      "Epoch 268/300\n",
      "856/856 [==============================] - 0s 351us/step - loss: 0.2754 - accuracy: 0.8703 - val_loss: 0.2972 - val_accuracy: 0.8865\n",
      "Epoch 269/300\n",
      "856/856 [==============================] - 0s 252us/step - loss: 0.2641 - accuracy: 0.8867 - val_loss: 0.2883 - val_accuracy: 0.8983\n",
      "Epoch 270/300\n",
      "856/856 [==============================] - 0s 259us/step - loss: 0.2774 - accuracy: 0.8738 - val_loss: 0.2791 - val_accuracy: 0.8960\n",
      "Epoch 271/300\n",
      "856/856 [==============================] - 0s 268us/step - loss: 0.2829 - accuracy: 0.8645 - val_loss: 0.2948 - val_accuracy: 0.8794\n",
      "Epoch 272/300\n",
      "856/856 [==============================] - 0s 322us/step - loss: 0.2707 - accuracy: 0.8680 - val_loss: 0.2763 - val_accuracy: 0.9054\n",
      "Epoch 273/300\n",
      "856/856 [==============================] - 0s 290us/step - loss: 0.2728 - accuracy: 0.8715 - val_loss: 0.2766 - val_accuracy: 0.9007\n",
      "Epoch 274/300\n",
      "856/856 [==============================] - 0s 280us/step - loss: 0.2699 - accuracy: 0.8773 - val_loss: 0.2818 - val_accuracy: 0.9007\n",
      "Epoch 275/300\n",
      "856/856 [==============================] - 0s 280us/step - loss: 0.2768 - accuracy: 0.8692 - val_loss: 0.2855 - val_accuracy: 0.8983\n",
      "Epoch 276/300\n",
      "856/856 [==============================] - 0s 278us/step - loss: 0.2680 - accuracy: 0.8738 - val_loss: 0.2772 - val_accuracy: 0.9031\n",
      "Epoch 277/300\n"
     ]
    },
    {
     "name": "stdout",
     "output_type": "stream",
     "text": [
      "856/856 [==============================] - 0s 286us/step - loss: 0.2714 - accuracy: 0.8633 - val_loss: 0.2886 - val_accuracy: 0.8747\n",
      "Epoch 278/300\n",
      "856/856 [==============================] - 0s 298us/step - loss: 0.2740 - accuracy: 0.8621 - val_loss: 0.2802 - val_accuracy: 0.8960\n",
      "Epoch 279/300\n",
      "856/856 [==============================] - 0s 299us/step - loss: 0.2722 - accuracy: 0.8703 - val_loss: 0.2877 - val_accuracy: 0.8889\n",
      "Epoch 280/300\n",
      "856/856 [==============================] - 0s 283us/step - loss: 0.2805 - accuracy: 0.8692 - val_loss: 0.2768 - val_accuracy: 0.8983\n",
      "Epoch 281/300\n",
      "856/856 [==============================] - 0s 285us/step - loss: 0.2704 - accuracy: 0.8785 - val_loss: 0.2826 - val_accuracy: 0.9031\n",
      "Epoch 282/300\n",
      "856/856 [==============================] - 0s 224us/step - loss: 0.2702 - accuracy: 0.8785 - val_loss: 0.2821 - val_accuracy: 0.9007\n",
      "Epoch 283/300\n",
      "856/856 [==============================] - 0s 280us/step - loss: 0.2835 - accuracy: 0.8668 - val_loss: 0.2827 - val_accuracy: 0.9007\n",
      "Epoch 284/300\n",
      "856/856 [==============================] - 0s 265us/step - loss: 0.2800 - accuracy: 0.8692 - val_loss: 0.2930 - val_accuracy: 0.9031\n",
      "Epoch 285/300\n",
      "856/856 [==============================] - 0s 330us/step - loss: 0.2768 - accuracy: 0.8692 - val_loss: 0.2856 - val_accuracy: 0.9054\n",
      "Epoch 286/300\n",
      "856/856 [==============================] - 0s 263us/step - loss: 0.2791 - accuracy: 0.8633 - val_loss: 0.2798 - val_accuracy: 0.9031\n",
      "Epoch 287/300\n",
      "856/856 [==============================] - 0s 223us/step - loss: 0.2589 - accuracy: 0.8621 - val_loss: 0.2765 - val_accuracy: 0.9031\n",
      "Epoch 288/300\n",
      "856/856 [==============================] - 0s 352us/step - loss: 0.2805 - accuracy: 0.8657 - val_loss: 0.2798 - val_accuracy: 0.9007\n",
      "Epoch 289/300\n",
      "856/856 [==============================] - 0s 431us/step - loss: 0.2798 - accuracy: 0.8692 - val_loss: 0.2812 - val_accuracy: 0.8983\n",
      "Epoch 290/300\n",
      "856/856 [==============================] - 0s 377us/step - loss: 0.2698 - accuracy: 0.8797 - val_loss: 0.2778 - val_accuracy: 0.9031\n",
      "Epoch 291/300\n",
      "856/856 [==============================] - 0s 303us/step - loss: 0.2725 - accuracy: 0.8785 - val_loss: 0.2739 - val_accuracy: 0.8983\n",
      "Epoch 292/300\n",
      "856/856 [==============================] - 0s 235us/step - loss: 0.2699 - accuracy: 0.8633 - val_loss: 0.2797 - val_accuracy: 0.9031\n",
      "Epoch 293/300\n",
      "856/856 [==============================] - 0s 219us/step - loss: 0.2738 - accuracy: 0.8563 - val_loss: 0.2860 - val_accuracy: 0.8936\n",
      "Epoch 294/300\n",
      "856/856 [==============================] - 0s 223us/step - loss: 0.2841 - accuracy: 0.8703 - val_loss: 0.2907 - val_accuracy: 0.9031\n",
      "Epoch 295/300\n",
      "856/856 [==============================] - 0s 225us/step - loss: 0.2710 - accuracy: 0.8727 - val_loss: 0.2781 - val_accuracy: 0.8960\n",
      "Epoch 296/300\n",
      "856/856 [==============================] - 0s 221us/step - loss: 0.2856 - accuracy: 0.8738 - val_loss: 0.2797 - val_accuracy: 0.9007\n",
      "Epoch 297/300\n",
      "856/856 [==============================] - 0s 239us/step - loss: 0.2807 - accuracy: 0.8762 - val_loss: 0.2942 - val_accuracy: 0.8865\n",
      "Epoch 298/300\n",
      "856/856 [==============================] - 0s 265us/step - loss: 0.2760 - accuracy: 0.8843 - val_loss: 0.2833 - val_accuracy: 0.9031\n",
      "Epoch 299/300\n",
      "856/856 [==============================] - 0s 249us/step - loss: 0.2766 - accuracy: 0.8703 - val_loss: 0.2874 - val_accuracy: 0.8936\n",
      "Epoch 300/300\n",
      "856/856 [==============================] - 0s 209us/step - loss: 0.2798 - accuracy: 0.8621 - val_loss: 0.2789 - val_accuracy: 0.8936\n"
     ]
    }
   ],
   "source": [
    "mymodel_history = mymodel.fit(train_x,train_y,validation_split=0.33,epochs=300,batch_size=16)"
   ]
  },
  {
   "cell_type": "code",
   "execution_count": 80,
   "metadata": {},
   "outputs": [
    {
     "name": "stdout",
     "output_type": "stream",
     "text": [
      "320/320 [==============================] - 0s 50us/step\n"
     ]
    },
    {
     "data": {
      "text/plain": [
       "[0.29220601320266726, 0.8374999761581421]"
      ]
     },
     "execution_count": 80,
     "metadata": {},
     "output_type": "execute_result"
    }
   ],
   "source": [
    "mymodel.evaluate(test_x, test_y)\n"
   ]
  },
  {
   "cell_type": "code",
   "execution_count": 81,
   "metadata": {},
   "outputs": [
    {
     "data": {
      "text/plain": [
       "array([[0.07061958],\n",
       "       [0.01633111],\n",
       "       [0.50825006],\n",
       "       [0.06171107],\n",
       "       [0.6117228 ],\n",
       "       [0.01452994],\n",
       "       [0.05197546],\n",
       "       [0.58095926],\n",
       "       [0.01195696],\n",
       "       [0.01071188],\n",
       "       [0.04981217],\n",
       "       [0.06532422],\n",
       "       [0.17582265],\n",
       "       [0.01231873],\n",
       "       [0.06096408],\n",
       "       [0.57887655],\n",
       "       [0.46200928],\n",
       "       [0.14501536],\n",
       "       [0.1941824 ],\n",
       "       [0.01916081],\n",
       "       [0.5557743 ],\n",
       "       [0.03103203],\n",
       "       [0.12491077],\n",
       "       [0.45051458],\n",
       "       [0.07837006],\n",
       "       [0.00985473],\n",
       "       [0.02016479],\n",
       "       [0.59314287],\n",
       "       [0.01968136],\n",
       "       [0.5072048 ],\n",
       "       [0.59303415],\n",
       "       [0.20981523],\n",
       "       [0.03878361],\n",
       "       [0.03212211],\n",
       "       [0.08240604],\n",
       "       [0.56195205],\n",
       "       [0.01876256],\n",
       "       [0.063703  ],\n",
       "       [0.6168285 ],\n",
       "       [0.28360236],\n",
       "       [0.03699249],\n",
       "       [0.45051458],\n",
       "       [0.49616152],\n",
       "       [0.4831165 ],\n",
       "       [0.4306723 ],\n",
       "       [0.00797638],\n",
       "       [0.09111065],\n",
       "       [0.20831612],\n",
       "       [0.0849084 ],\n",
       "       [0.5457696 ],\n",
       "       [0.05813566],\n",
       "       [0.03528282],\n",
       "       [0.06959188],\n",
       "       [0.45051458],\n",
       "       [0.22130498],\n",
       "       [0.01495272],\n",
       "       [0.01209038],\n",
       "       [0.0353508 ],\n",
       "       [0.52661157],\n",
       "       [0.06761622],\n",
       "       [0.02630687],\n",
       "       [0.15744567],\n",
       "       [0.31323868],\n",
       "       [0.45051458],\n",
       "       [0.01738343],\n",
       "       [0.45051458],\n",
       "       [0.03570881],\n",
       "       [0.40984392],\n",
       "       [0.32530242],\n",
       "       [0.35471243],\n",
       "       [0.01778245],\n",
       "       [0.01567948],\n",
       "       [0.0168395 ],\n",
       "       [0.02413824],\n",
       "       [0.07189196],\n",
       "       [0.45051458],\n",
       "       [0.05908254],\n",
       "       [0.02737913],\n",
       "       [0.06418747],\n",
       "       [0.61241746],\n",
       "       [0.22268745],\n",
       "       [0.02020633],\n",
       "       [0.22255287],\n",
       "       [0.6155898 ],\n",
       "       [0.05479223],\n",
       "       [0.04160321],\n",
       "       [0.45051458],\n",
       "       [0.02243632],\n",
       "       [0.0384573 ],\n",
       "       [0.01255241],\n",
       "       [0.01500335],\n",
       "       [0.01862586],\n",
       "       [0.21385205],\n",
       "       [0.04905528],\n",
       "       [0.6065695 ],\n",
       "       [0.01778245],\n",
       "       [0.6107417 ],\n",
       "       [0.06903538],\n",
       "       [0.05752853],\n",
       "       [0.24220183],\n",
       "       [0.4721106 ],\n",
       "       [0.3690943 ],\n",
       "       [0.06202707],\n",
       "       [0.5613812 ],\n",
       "       [0.11035573],\n",
       "       [0.01420259],\n",
       "       [0.11035573],\n",
       "       [0.02323437],\n",
       "       [0.45051458],\n",
       "       [0.02161297],\n",
       "       [0.3814683 ],\n",
       "       [0.01741785],\n",
       "       [0.61523855],\n",
       "       [0.00968018],\n",
       "       [0.0896771 ],\n",
       "       [0.09841919],\n",
       "       [0.17603245],\n",
       "       [0.59519976],\n",
       "       [0.34488198],\n",
       "       [0.12491077],\n",
       "       [0.01486409],\n",
       "       [0.56270933],\n",
       "       [0.01165104],\n",
       "       [0.01811498],\n",
       "       [0.2207712 ],\n",
       "       [0.5994722 ],\n",
       "       [0.02482325],\n",
       "       [0.04966652],\n",
       "       [0.50862825],\n",
       "       [0.51858306],\n",
       "       [0.03122145],\n",
       "       [0.0254811 ],\n",
       "       [0.45051458],\n",
       "       [0.308304  ],\n",
       "       [0.5945007 ],\n",
       "       [0.02867872],\n",
       "       [0.33433545],\n",
       "       [0.01358798],\n",
       "       [0.5786614 ],\n",
       "       [0.03240618],\n",
       "       [0.20564684],\n",
       "       [0.01370159],\n",
       "       [0.09111065],\n",
       "       [0.03680986],\n",
       "       [0.03089872],\n",
       "       [0.20881289],\n",
       "       [0.61523855],\n",
       "       [0.51007617],\n",
       "       [0.6142024 ],\n",
       "       [0.03763095],\n",
       "       [0.2859826 ],\n",
       "       [0.23535472],\n",
       "       [0.02323437],\n",
       "       [0.11056805],\n",
       "       [0.06189343],\n",
       "       [0.02871233],\n",
       "       [0.0324119 ],\n",
       "       [0.05059764],\n",
       "       [0.45051458],\n",
       "       [0.31741676],\n",
       "       [0.35350692],\n",
       "       [0.11778399],\n",
       "       [0.6154637 ],\n",
       "       [0.01669505],\n",
       "       [0.39333853],\n",
       "       [0.01327574],\n",
       "       [0.04914308],\n",
       "       [0.58743626],\n",
       "       [0.04280978],\n",
       "       [0.3850144 ],\n",
       "       [0.37997037],\n",
       "       [0.03529796],\n",
       "       [0.01794174],\n",
       "       [0.49269068],\n",
       "       [0.3895793 ],\n",
       "       [0.49248582],\n",
       "       [0.58670515],\n",
       "       [0.47466713],\n",
       "       [0.4444735 ],\n",
       "       [0.01108968],\n",
       "       [0.01233551],\n",
       "       [0.48109996],\n",
       "       [0.05077922],\n",
       "       [0.6064458 ],\n",
       "       [0.51054037],\n",
       "       [0.01300016],\n",
       "       [0.07691145],\n",
       "       [0.06202707],\n",
       "       [0.00905836],\n",
       "       [0.45051458],\n",
       "       [0.44990337],\n",
       "       [0.08310482],\n",
       "       [0.02607781],\n",
       "       [0.09409264],\n",
       "       [0.02544799],\n",
       "       [0.01647449],\n",
       "       [0.04981217],\n",
       "       [0.02116972],\n",
       "       [0.02787614],\n",
       "       [0.0068787 ],\n",
       "       [0.01626953],\n",
       "       [0.57776356],\n",
       "       [0.01670018],\n",
       "       [0.03817138],\n",
       "       [0.02250358],\n",
       "       [0.01293278],\n",
       "       [0.01546523],\n",
       "       [0.60997206],\n",
       "       [0.3153094 ],\n",
       "       [0.03422457],\n",
       "       [0.21507436],\n",
       "       [0.33105075],\n",
       "       [0.00940207],\n",
       "       [0.445722  ],\n",
       "       [0.01908284],\n",
       "       [0.04500663],\n",
       "       [0.2219187 ],\n",
       "       [0.5123057 ],\n",
       "       [0.06938952],\n",
       "       [0.01025522],\n",
       "       [0.01667181],\n",
       "       [0.29928112],\n",
       "       [0.56798035],\n",
       "       [0.12556827],\n",
       "       [0.04774874],\n",
       "       [0.39564785],\n",
       "       [0.584775  ],\n",
       "       [0.18678686],\n",
       "       [0.01356241],\n",
       "       [0.07351139],\n",
       "       [0.01365581],\n",
       "       [0.3424884 ],\n",
       "       [0.01513478],\n",
       "       [0.09780389],\n",
       "       [0.6090455 ],\n",
       "       [0.05368823],\n",
       "       [0.6143149 ],\n",
       "       [0.5584784 ],\n",
       "       [0.56577396],\n",
       "       [0.58922225],\n",
       "       [0.03465849],\n",
       "       [0.01178953],\n",
       "       [0.01548636],\n",
       "       [0.02076927],\n",
       "       [0.405273  ],\n",
       "       [0.00907224],\n",
       "       [0.10302615],\n",
       "       [0.018987  ],\n",
       "       [0.00788829],\n",
       "       [0.6164268 ],\n",
       "       [0.0091967 ],\n",
       "       [0.02552161],\n",
       "       [0.01191893],\n",
       "       [0.04861036],\n",
       "       [0.06541806],\n",
       "       [0.05012676],\n",
       "       [0.01145753],\n",
       "       [0.01520535],\n",
       "       [0.01546696],\n",
       "       [0.17729285],\n",
       "       [0.02805597],\n",
       "       [0.5426418 ],\n",
       "       [0.02617988],\n",
       "       [0.22150126],\n",
       "       [0.02293685],\n",
       "       [0.01133651],\n",
       "       [0.03421137],\n",
       "       [0.00763202],\n",
       "       [0.05094358],\n",
       "       [0.5531203 ],\n",
       "       [0.17704782],\n",
       "       [0.08563942],\n",
       "       [0.10770348],\n",
       "       [0.18595022],\n",
       "       [0.28909522],\n",
       "       [0.06731102],\n",
       "       [0.54064035],\n",
       "       [0.0151529 ],\n",
       "       [0.4926442 ],\n",
       "       [0.61529297],\n",
       "       [0.0257906 ],\n",
       "       [0.45978484],\n",
       "       [0.08563942],\n",
       "       [0.61400384],\n",
       "       [0.27942902],\n",
       "       [0.01690283],\n",
       "       [0.07839864],\n",
       "       [0.04005942],\n",
       "       [0.60352623],\n",
       "       [0.19613132],\n",
       "       [0.10536653],\n",
       "       [0.04791433],\n",
       "       [0.3694592 ],\n",
       "       [0.05375388],\n",
       "       [0.01577353],\n",
       "       [0.14623344],\n",
       "       [0.0664466 ],\n",
       "       [0.03654516],\n",
       "       [0.02043587],\n",
       "       [0.02287617],\n",
       "       [0.09264243],\n",
       "       [0.01680845],\n",
       "       [0.08252409],\n",
       "       [0.19561276],\n",
       "       [0.5699188 ],\n",
       "       [0.03601235],\n",
       "       [0.03323674],\n",
       "       [0.01714975],\n",
       "       [0.11424568],\n",
       "       [0.04761779],\n",
       "       [0.1120615 ],\n",
       "       [0.14463684],\n",
       "       [0.05149862],\n",
       "       [0.06903538],\n",
       "       [0.0101971 ],\n",
       "       [0.5107355 ],\n",
       "       [0.38322273],\n",
       "       [0.5641951 ],\n",
       "       [0.0250209 ],\n",
       "       [0.61404985]], dtype=float32)"
      ]
     },
     "execution_count": 81,
     "metadata": {},
     "output_type": "execute_result"
    }
   ],
   "source": [
    "my_predict = mymodel.predict(test_x)\n",
    "my_predict"
   ]
  },
  {
   "cell_type": "code",
   "execution_count": 82,
   "metadata": {
    "scrolled": true
   },
   "outputs": [
    {
     "data": {
      "text/plain": [
       "array([[0.],\n",
       "       [0.],\n",
       "       [1.],\n",
       "       [0.],\n",
       "       [1.],\n",
       "       [0.],\n",
       "       [0.],\n",
       "       [1.],\n",
       "       [0.],\n",
       "       [0.],\n",
       "       [0.],\n",
       "       [0.],\n",
       "       [0.],\n",
       "       [0.],\n",
       "       [0.],\n",
       "       [1.],\n",
       "       [0.],\n",
       "       [0.],\n",
       "       [0.],\n",
       "       [0.],\n",
       "       [1.],\n",
       "       [0.],\n",
       "       [0.],\n",
       "       [0.],\n",
       "       [0.],\n",
       "       [0.],\n",
       "       [0.],\n",
       "       [1.],\n",
       "       [0.],\n",
       "       [1.],\n",
       "       [1.],\n",
       "       [0.],\n",
       "       [0.],\n",
       "       [0.],\n",
       "       [0.],\n",
       "       [1.],\n",
       "       [0.],\n",
       "       [0.],\n",
       "       [1.],\n",
       "       [0.],\n",
       "       [0.],\n",
       "       [0.],\n",
       "       [0.],\n",
       "       [0.],\n",
       "       [0.],\n",
       "       [0.],\n",
       "       [0.],\n",
       "       [0.],\n",
       "       [0.],\n",
       "       [1.],\n",
       "       [0.],\n",
       "       [0.],\n",
       "       [0.],\n",
       "       [0.],\n",
       "       [0.],\n",
       "       [0.],\n",
       "       [0.],\n",
       "       [0.],\n",
       "       [1.],\n",
       "       [0.],\n",
       "       [0.],\n",
       "       [0.],\n",
       "       [0.],\n",
       "       [0.],\n",
       "       [0.],\n",
       "       [0.],\n",
       "       [0.],\n",
       "       [0.],\n",
       "       [0.],\n",
       "       [0.],\n",
       "       [0.],\n",
       "       [0.],\n",
       "       [0.],\n",
       "       [0.],\n",
       "       [0.],\n",
       "       [0.],\n",
       "       [0.],\n",
       "       [0.],\n",
       "       [0.],\n",
       "       [1.],\n",
       "       [0.],\n",
       "       [0.],\n",
       "       [0.],\n",
       "       [1.],\n",
       "       [0.],\n",
       "       [0.],\n",
       "       [0.],\n",
       "       [0.],\n",
       "       [0.],\n",
       "       [0.],\n",
       "       [0.],\n",
       "       [0.],\n",
       "       [0.],\n",
       "       [0.],\n",
       "       [1.],\n",
       "       [0.],\n",
       "       [1.],\n",
       "       [0.],\n",
       "       [0.],\n",
       "       [0.],\n",
       "       [0.],\n",
       "       [0.],\n",
       "       [0.],\n",
       "       [1.],\n",
       "       [0.],\n",
       "       [0.],\n",
       "       [0.],\n",
       "       [0.],\n",
       "       [0.],\n",
       "       [0.],\n",
       "       [0.],\n",
       "       [0.],\n",
       "       [1.],\n",
       "       [0.],\n",
       "       [0.],\n",
       "       [0.],\n",
       "       [0.],\n",
       "       [1.],\n",
       "       [0.],\n",
       "       [0.],\n",
       "       [0.],\n",
       "       [1.],\n",
       "       [0.],\n",
       "       [0.],\n",
       "       [0.],\n",
       "       [1.],\n",
       "       [0.],\n",
       "       [0.],\n",
       "       [1.],\n",
       "       [1.],\n",
       "       [0.],\n",
       "       [0.],\n",
       "       [0.],\n",
       "       [0.],\n",
       "       [1.],\n",
       "       [0.],\n",
       "       [0.],\n",
       "       [0.],\n",
       "       [1.],\n",
       "       [0.],\n",
       "       [0.],\n",
       "       [0.],\n",
       "       [0.],\n",
       "       [0.],\n",
       "       [0.],\n",
       "       [0.],\n",
       "       [1.],\n",
       "       [1.],\n",
       "       [1.],\n",
       "       [0.],\n",
       "       [0.],\n",
       "       [0.],\n",
       "       [0.],\n",
       "       [0.],\n",
       "       [0.],\n",
       "       [0.],\n",
       "       [0.],\n",
       "       [0.],\n",
       "       [0.],\n",
       "       [0.],\n",
       "       [0.],\n",
       "       [0.],\n",
       "       [1.],\n",
       "       [0.],\n",
       "       [0.],\n",
       "       [0.],\n",
       "       [0.],\n",
       "       [1.],\n",
       "       [0.],\n",
       "       [0.],\n",
       "       [0.],\n",
       "       [0.],\n",
       "       [0.],\n",
       "       [0.],\n",
       "       [0.],\n",
       "       [0.],\n",
       "       [1.],\n",
       "       [0.],\n",
       "       [0.],\n",
       "       [0.],\n",
       "       [0.],\n",
       "       [0.],\n",
       "       [0.],\n",
       "       [1.],\n",
       "       [1.],\n",
       "       [0.],\n",
       "       [0.],\n",
       "       [0.],\n",
       "       [0.],\n",
       "       [0.],\n",
       "       [0.],\n",
       "       [0.],\n",
       "       [0.],\n",
       "       [0.],\n",
       "       [0.],\n",
       "       [0.],\n",
       "       [0.],\n",
       "       [0.],\n",
       "       [0.],\n",
       "       [0.],\n",
       "       [0.],\n",
       "       [1.],\n",
       "       [0.],\n",
       "       [0.],\n",
       "       [0.],\n",
       "       [0.],\n",
       "       [0.],\n",
       "       [1.],\n",
       "       [0.],\n",
       "       [0.],\n",
       "       [0.],\n",
       "       [0.],\n",
       "       [0.],\n",
       "       [0.],\n",
       "       [0.],\n",
       "       [0.],\n",
       "       [0.],\n",
       "       [1.],\n",
       "       [0.],\n",
       "       [0.],\n",
       "       [0.],\n",
       "       [0.],\n",
       "       [1.],\n",
       "       [0.],\n",
       "       [0.],\n",
       "       [0.],\n",
       "       [1.],\n",
       "       [0.],\n",
       "       [0.],\n",
       "       [0.],\n",
       "       [0.],\n",
       "       [0.],\n",
       "       [0.],\n",
       "       [0.],\n",
       "       [1.],\n",
       "       [0.],\n",
       "       [1.],\n",
       "       [1.],\n",
       "       [1.],\n",
       "       [1.],\n",
       "       [0.],\n",
       "       [0.],\n",
       "       [0.],\n",
       "       [0.],\n",
       "       [0.],\n",
       "       [0.],\n",
       "       [0.],\n",
       "       [0.],\n",
       "       [0.],\n",
       "       [1.],\n",
       "       [0.],\n",
       "       [0.],\n",
       "       [0.],\n",
       "       [0.],\n",
       "       [0.],\n",
       "       [0.],\n",
       "       [0.],\n",
       "       [0.],\n",
       "       [0.],\n",
       "       [0.],\n",
       "       [0.],\n",
       "       [1.],\n",
       "       [0.],\n",
       "       [0.],\n",
       "       [0.],\n",
       "       [0.],\n",
       "       [0.],\n",
       "       [0.],\n",
       "       [0.],\n",
       "       [1.],\n",
       "       [0.],\n",
       "       [0.],\n",
       "       [0.],\n",
       "       [0.],\n",
       "       [0.],\n",
       "       [0.],\n",
       "       [1.],\n",
       "       [0.],\n",
       "       [0.],\n",
       "       [1.],\n",
       "       [0.],\n",
       "       [0.],\n",
       "       [0.],\n",
       "       [1.],\n",
       "       [0.],\n",
       "       [0.],\n",
       "       [0.],\n",
       "       [0.],\n",
       "       [1.],\n",
       "       [0.],\n",
       "       [0.],\n",
       "       [0.],\n",
       "       [0.],\n",
       "       [0.],\n",
       "       [0.],\n",
       "       [0.],\n",
       "       [0.],\n",
       "       [0.],\n",
       "       [0.],\n",
       "       [0.],\n",
       "       [0.],\n",
       "       [0.],\n",
       "       [0.],\n",
       "       [0.],\n",
       "       [1.],\n",
       "       [0.],\n",
       "       [0.],\n",
       "       [0.],\n",
       "       [0.],\n",
       "       [0.],\n",
       "       [0.],\n",
       "       [0.],\n",
       "       [0.],\n",
       "       [0.],\n",
       "       [0.],\n",
       "       [1.],\n",
       "       [0.],\n",
       "       [1.],\n",
       "       [0.],\n",
       "       [1.]], dtype=float32)"
      ]
     },
     "execution_count": 82,
     "metadata": {},
     "output_type": "execute_result"
    }
   ],
   "source": [
    "np.round(my_predict)\n"
   ]
  },
  {
   "cell_type": "code",
   "execution_count": 90,
   "metadata": {},
   "outputs": [],
   "source": [
    "pred_y = mymodel.predict(test_x)\n",
    "pred_y = (pred_y>0.5)"
   ]
  },
  {
   "cell_type": "code",
   "execution_count": 91,
   "metadata": {},
   "outputs": [
    {
     "data": {
      "text/plain": [
       "array([[252,  38],\n",
       "       [ 14,  16]], dtype=int64)"
      ]
     },
     "execution_count": 91,
     "metadata": {},
     "output_type": "execute_result"
    }
   ],
   "source": [
    "from sklearn.metrics import accuracy_score, confusion_matrix\n",
    "cm=confusion_matrix(test_y,pred_y)\n",
    "cm"
   ]
  },
  {
   "cell_type": "code",
   "execution_count": 88,
   "metadata": {},
   "outputs": [
    {
     "name": "stdout",
     "output_type": "stream",
     "text": [
      "dict_keys(['val_loss', 'val_accuracy', 'loss', 'accuracy'])\n"
     ]
    },
    {
     "data": {
      "image/png": "[encoded data removed]",
      "text/plain": [
       "<Figure size 720x432 with 1 Axes>"
      ]
     },
     "metadata": {
      "needs_background": "light"
     },
     "output_type": "display_data"
    },
    {
     "data": {
      "image/png": "[encoded data removed]",
      "text/plain": [
       "<Figure size 720x432 with 1 Axes>"
      ]
     },
     "metadata": {
      "needs_background": "light"
     },
     "output_type": "display_data"
    }
   ],
   "source": [
    "# list all data in history\n",
    "print(mymodel_history.history.keys())\n",
    "# summarize history for accuracy\n",
    "fig = plt.figure(figsize = (10,6))\n",
    "plt.plot(mymodel_history.history['accuracy'])\n",
    "plt.plot(mymodel_history.history['val_accuracy'])\n",
    "plt.title('model accuracy')\n",
    "plt.ylabel('accuracy')\n",
    "plt.xlabel('epoch')\n",
    "plt.legend(['train', 'test'], loc='upper left')\n",
    "plt.show()\n",
    "# summarize history for loss\n",
    "plt.figure(figsize = (10,6))\n",
    "plt.plot(mymodel_history.history['loss'])\n",
    "plt.plot(mymodel_history.history['val_loss'])\n",
    "plt.title('model loss')\n",
    "plt.ylabel('loss')\n",
    "plt.xlabel('epoch')\n",
    "plt.legend(['train', 'test'], loc='upper left')\n",
    "plt.show()"
   ]
  },
  {
   "cell_type": "code",
   "execution_count": null,
   "metadata": {},
   "outputs": [],
   "source": []
  }
 ],
 "metadata": {
  "kernelspec": {
   "display_name": "Python 3",
   "language": "python",
   "name": "python3"
  },
  "language_info": {
   "codemirror_mode": {
    "name": "ipython",
    "version": 3
   },
   "file_extension": ".py",
   "mimetype": "text/x-python",
   "name": "python",
   "nbconvert_exporter": "python",
   "pygments_lexer": "ipython3",
   "version": "3.7.5"
  }
 },
 "nbformat": 4,
 "nbformat_minor": 2
}
